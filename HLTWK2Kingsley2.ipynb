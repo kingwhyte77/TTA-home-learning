{
 "metadata": {
  "language_info": {
   "codemirror_mode": {
    "name": "ipython",
    "version": 3
   },
   "file_extension": ".py",
   "mimetype": "text/x-python",
   "name": "python",
   "nbconvert_exporter": "python",
   "pygments_lexer": "ipython3",
   "version": "3.8.5"
  },
  "orig_nbformat": 2,
  "kernelspec": {
   "name": "python385jvsc74a57bd0fcad02083be5421b3a91ded45c808eb24fa50fde9ad62de0264229fd6aae0619",
   "display_name": "Python 3.8.5 64-bit ('base': conda)"
  }
 },
 "nbformat": 4,
 "nbformat_minor": 2,
 "cells": [
  {
   "cell_type": "code",
   "execution_count": 18,
   "metadata": {},
   "outputs": [],
   "source": [
    "# task 1\n",
    "\n",
    "\n",
    "# cost of motorbike\n",
    "# Loses each year on the bike 10%\n",
    "# Setup a function that performs the calculate in parameters\n",
    "# Then loop print the value of the bike each year until it falls below 1000\n",
    "\n",
    "def current_value(motorbike_cost, year, multiplex = '0.9'):\n",
    "    motorbike_cost = 2000\n",
    "    year = 2021\n",
    "    while motorbike_cost < 1000:\n",
    "        current_value = (\"motorbike_cost = motorbike_cost * 0.9\")\n",
    "        year += 1\n",
    "        print(\"By\",year,\" actual value is \", \"%.2f\" % motorbike_cost, \"at a deprication rate of 10% pa\"  \n",
    "        "
   ]
  },
  {
   "cell_type": "code",
   "execution_count": 19,
   "metadata": {},
   "outputs": [],
   "source": [
    " current_value('motorbike_cost','year')\n",
    " "
   ]
  },
  {
   "cell_type": "code",
   "execution_count": 5,
   "metadata": {},
   "outputs": [
    {
     "output_type": "stream",
     "name": "stdout",
     "text": [
      "enter the operator you want to perform\n",
      "9 - 9 = \n",
      "0\n"
     ]
    }
   ],
   "source": [
    "\n",
    "Task 2\n",
    "\n",
    "# Write a program which will ask for two numbers from a user. \n",
    "# Then offer an option menu to the user giving them a choice of maths operators.\n",
    "# Once the user has selected which operator they wish to use\n",
    "# Perform the calculation by using a procedure and passing parameters\n",
    "\n",
    "\n",
    "import math\n",
    "\n",
    "# We beginiing by getting input for the user.\n",
    "\n",
    "number1 = int(input(\"enter first number\"))\n",
    "number2 = int(input(\"enter second number\"))\n",
    "print(\"enter the operator you want to perform\")\n",
    "operator = input (\"enter any of these specific operation +,-,*,/,:\")\n",
    "\n",
    "results = 0\n",
    "if operator  =='+':\n",
    "    result = number1 +number2\n",
    "elif operator == '-':\n",
    "    result = number1 - number2\n",
    "elif operator == '*':\n",
    "    result = number1 * number2\n",
    "elif operator == '/':\n",
    "    result = number1 / number2\n",
    "else:\n",
    "    print(\"This is inactive you need to do better\")\n",
    "    print(number1,operator,number2,':',result)\n",
    "\n",
    "# Perform the calculation by using a procedure and passing parameters\n",
    "\n",
    "\n",
    "def procedure():\n",
    "    operation = input('''\n",
    "Please type in the math operation you would like to complete:\n",
    "+ for addition\n",
    "- for subtraction\n",
    "* for multiplication\n",
    "/ for division\n",
    "''')\n",
    "\n",
    "    number_1 = int(input('Please enter the first number: '))\n",
    "    number_2 = int(input('Please enter the second number: '))\n",
    "\n",
    "    if operation == '+':\n",
    "        print('{} + {} = '.format(number_1, number_2))\n",
    "        print(number_1 + number_2)\n",
    "\n",
    "    elif operation == '-':\n",
    "        print('{} - {} = '.format(number_1, number_2))\n",
    "        print(number_1 - number_2)\n",
    "\n",
    "    elif operation == '*':\n",
    "        print('{} * {} = '.format(number_1, number_2))\n",
    "        print(number_1 * number_2)\n",
    "\n",
    "    elif operation == '/':\n",
    "        print('{} / {} = '.format(number_1, number_2))\n",
    "        print(number_1 / number_2)\n",
    "\n",
    "    else:\n",
    "        print('This is inactive you need to do better, please run the program again.')\n",
    "\n",
    "# Call procedure() outside of the function\n",
    "procedure()\n"
   ]
  },
  {
   "cell_type": "code",
   "execution_count": null,
   "metadata": {},
   "outputs": [],
   "source": []
  }
 ]
}