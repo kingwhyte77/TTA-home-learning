{
 "metadata": {
  "language_info": {
   "codemirror_mode": {
    "name": "ipython",
    "version": 3
   },
   "file_extension": ".py",
   "mimetype": "text/x-python",
   "name": "python",
   "nbconvert_exporter": "python",
   "pygments_lexer": "ipython3",
   "version": "3.8.8"
  },
  "orig_nbformat": 2,
  "kernelspec": {
   "name": "python388jvsc74a57bd08a1d99096064578857631a90c3e9d1bbea52e61e8ecb2665d7d7fb9986e6f618",
   "display_name": "Python 3.8.8 64-bit ('base': conda)"
  }
 },
 "nbformat": 4,
 "nbformat_minor": 2,
 "cells": [
  {
   "cell_type": "code",
   "execution_count": 2,
   "metadata": {},
   "outputs": [],
   "source": [
    "# Pandas Library\n",
    "\n",
    "# Useful for Data processing & Analysis\n",
    "\n",
    "# (1) Pandas Data Frame:\n",
    "# (2) Pandas Data Frame is two-dimensional tabular structure with labeled axes (rows and colums).\n",
    "\n",
    "# importing the pandas library \n",
    "import pandas as pd\n",
    "import numpy  as np\n",
    "\n",
    "# Create a CSV file of 15 holiday destinations for a website \n",
    "\n",
    "# importing the data from a csv file to a pandas DataFrame\n",
    "\n",
    "# cvs file to pandas.df\n",
    "\n",
    "destinations_df = pd.read_csv('D:\\data.academy\\holiday destinations.csv')\n"
   ]
  },
  {
   "cell_type": "code",
   "execution_count": 3,
   "metadata": {},
   "outputs": [
    {
     "output_type": "execute_result",
     "data": {
      "text/plain": [
       "    Most visited countries            Destinations  Feed back scores  \\\n",
       "0               Costa Rica                San Jos�                 8   \n",
       "1               Montenegro  Durmitor National Park                 6   \n",
       "2                    Italy                  Sicily                 7   \n",
       "3                   Serbia               Belgrade                  9   \n",
       "4                  Austria                  Vienna                 8   \n",
       "5                    Spain                 Seville                 7   \n",
       "6             United State                New York                 5   \n",
       "7               Lithuania                  Vilnius                 8   \n",
       "8                 Portugal                  Lisbon                 8   \n",
       "9                   Mexico                 Canc�n                  6   \n",
       "10                   Japan              Mount Fuji                 7   \n",
       "11                   Spain           Fuerteventura                 7   \n",
       "12                   Egypt                Hurghada                 5   \n",
       "13                  Isreal                Tel Aviv                 6   \n",
       "14                 Ireland                  Galway                 6   \n",
       "\n",
       "    Stars rating (highest first )  All-inclusive hotels  \\\n",
       "0                               4                    10   \n",
       "1                               4                    11   \n",
       "2                               3                    22   \n",
       "3                               4                     9   \n",
       "4                               3                    25   \n",
       "5                               3                    40   \n",
       "6                               4                    23   \n",
       "7                               3                     9   \n",
       "8                               3                    13   \n",
       "9                               3                    15   \n",
       "10                              3                     8   \n",
       "11                              4                    38   \n",
       "12                              3                    25   \n",
       "13                              3                    23   \n",
       "14                              2                    11   \n",
       "\n",
       "   Most visited city(highest first)   Unnamed: 6  Unnamed: 7  Unnamed: 8  \n",
       "0                           San Jos�         NaN         NaN         NaN  \n",
       "1                             Sicily         NaN         NaN         NaN  \n",
       "2             Durmitor National Park         NaN         NaN         NaN  \n",
       "3                             Vienna         NaN         NaN         NaN  \n",
       "4                          Belgrade          NaN         NaN         NaN  \n",
       "5                            Seville         NaN         NaN         NaN  \n",
       "6                           New York         NaN         NaN         NaN  \n",
       "7                            Vilnius         NaN         NaN         NaN  \n",
       "8                             Lisbon         NaN         NaN         NaN  \n",
       "9                            Canc�n          NaN         NaN         NaN  \n",
       "10                        Mount Fuji         NaN         NaN         NaN  \n",
       "11                     Fuerteventura         NaN         NaN         NaN  \n",
       "12                          Hurghada         NaN         NaN         NaN  \n",
       "13                          Tel Aviv         NaN         NaN         NaN  \n",
       "14                            Galway         NaN         NaN         NaN  "
      ],
      "text/html": "<div>\n<style scoped>\n    .dataframe tbody tr th:only-of-type {\n        vertical-align: middle;\n    }\n\n    .dataframe tbody tr th {\n        vertical-align: top;\n    }\n\n    .dataframe thead th {\n        text-align: right;\n    }\n</style>\n<table border=\"1\" class=\"dataframe\">\n  <thead>\n    <tr style=\"text-align: right;\">\n      <th></th>\n      <th>Most visited countries</th>\n      <th>Destinations</th>\n      <th>Feed back scores</th>\n      <th>Stars rating (highest first )</th>\n      <th>All-inclusive hotels</th>\n      <th>Most visited city(highest first)</th>\n      <th>Unnamed: 6</th>\n      <th>Unnamed: 7</th>\n      <th>Unnamed: 8</th>\n    </tr>\n  </thead>\n  <tbody>\n    <tr>\n      <th>0</th>\n      <td>Costa Rica</td>\n      <td>San Jos�</td>\n      <td>8</td>\n      <td>4</td>\n      <td>10</td>\n      <td>San Jos�</td>\n      <td>NaN</td>\n      <td>NaN</td>\n      <td>NaN</td>\n    </tr>\n    <tr>\n      <th>1</th>\n      <td>Montenegro</td>\n      <td>Durmitor National Park</td>\n      <td>6</td>\n      <td>4</td>\n      <td>11</td>\n      <td>Sicily</td>\n      <td>NaN</td>\n      <td>NaN</td>\n      <td>NaN</td>\n    </tr>\n    <tr>\n      <th>2</th>\n      <td>Italy</td>\n      <td>Sicily</td>\n      <td>7</td>\n      <td>3</td>\n      <td>22</td>\n      <td>Durmitor National Park</td>\n      <td>NaN</td>\n      <td>NaN</td>\n      <td>NaN</td>\n    </tr>\n    <tr>\n      <th>3</th>\n      <td>Serbia</td>\n      <td>Belgrade</td>\n      <td>9</td>\n      <td>4</td>\n      <td>9</td>\n      <td>Vienna</td>\n      <td>NaN</td>\n      <td>NaN</td>\n      <td>NaN</td>\n    </tr>\n    <tr>\n      <th>4</th>\n      <td>Austria</td>\n      <td>Vienna</td>\n      <td>8</td>\n      <td>3</td>\n      <td>25</td>\n      <td>Belgrade</td>\n      <td>NaN</td>\n      <td>NaN</td>\n      <td>NaN</td>\n    </tr>\n    <tr>\n      <th>5</th>\n      <td>Spain</td>\n      <td>Seville</td>\n      <td>7</td>\n      <td>3</td>\n      <td>40</td>\n      <td>Seville</td>\n      <td>NaN</td>\n      <td>NaN</td>\n      <td>NaN</td>\n    </tr>\n    <tr>\n      <th>6</th>\n      <td>United State</td>\n      <td>New York</td>\n      <td>5</td>\n      <td>4</td>\n      <td>23</td>\n      <td>New York</td>\n      <td>NaN</td>\n      <td>NaN</td>\n      <td>NaN</td>\n    </tr>\n    <tr>\n      <th>7</th>\n      <td>Lithuania</td>\n      <td>Vilnius</td>\n      <td>8</td>\n      <td>3</td>\n      <td>9</td>\n      <td>Vilnius</td>\n      <td>NaN</td>\n      <td>NaN</td>\n      <td>NaN</td>\n    </tr>\n    <tr>\n      <th>8</th>\n      <td>Portugal</td>\n      <td>Lisbon</td>\n      <td>8</td>\n      <td>3</td>\n      <td>13</td>\n      <td>Lisbon</td>\n      <td>NaN</td>\n      <td>NaN</td>\n      <td>NaN</td>\n    </tr>\n    <tr>\n      <th>9</th>\n      <td>Mexico</td>\n      <td>Canc�n</td>\n      <td>6</td>\n      <td>3</td>\n      <td>15</td>\n      <td>Canc�n</td>\n      <td>NaN</td>\n      <td>NaN</td>\n      <td>NaN</td>\n    </tr>\n    <tr>\n      <th>10</th>\n      <td>Japan</td>\n      <td>Mount Fuji</td>\n      <td>7</td>\n      <td>3</td>\n      <td>8</td>\n      <td>Mount Fuji</td>\n      <td>NaN</td>\n      <td>NaN</td>\n      <td>NaN</td>\n    </tr>\n    <tr>\n      <th>11</th>\n      <td>Spain</td>\n      <td>Fuerteventura</td>\n      <td>7</td>\n      <td>4</td>\n      <td>38</td>\n      <td>Fuerteventura</td>\n      <td>NaN</td>\n      <td>NaN</td>\n      <td>NaN</td>\n    </tr>\n    <tr>\n      <th>12</th>\n      <td>Egypt</td>\n      <td>Hurghada</td>\n      <td>5</td>\n      <td>3</td>\n      <td>25</td>\n      <td>Hurghada</td>\n      <td>NaN</td>\n      <td>NaN</td>\n      <td>NaN</td>\n    </tr>\n    <tr>\n      <th>13</th>\n      <td>Isreal</td>\n      <td>Tel Aviv</td>\n      <td>6</td>\n      <td>3</td>\n      <td>23</td>\n      <td>Tel Aviv</td>\n      <td>NaN</td>\n      <td>NaN</td>\n      <td>NaN</td>\n    </tr>\n    <tr>\n      <th>14</th>\n      <td>Ireland</td>\n      <td>Galway</td>\n      <td>6</td>\n      <td>2</td>\n      <td>11</td>\n      <td>Galway</td>\n      <td>NaN</td>\n      <td>NaN</td>\n      <td>NaN</td>\n    </tr>\n  </tbody>\n</table>\n</div>"
     },
     "metadata": {},
     "execution_count": 3
    }
   ],
   "source": [
    "destinations_df.head(15)"
   ]
  },
  {
   "cell_type": "code",
   "execution_count": 4,
   "metadata": {},
   "outputs": [
    {
     "output_type": "execute_result",
     "data": {
      "text/plain": [
       "   Most visited countries            Destinations  Feed back scores  \\\n",
       "0              Costa Rica                San Jos�                 8   \n",
       "1              Montenegro  Durmitor National Park                 6   \n",
       "2                   Italy                  Sicily                 7   \n",
       "3                  Serbia               Belgrade                  9   \n",
       "4                 Austria                  Vienna                 8   \n",
       "\n",
       "   Stars rating (highest first )  All-inclusive hotels  \\\n",
       "0                              4                    10   \n",
       "1                              4                    11   \n",
       "2                              3                    22   \n",
       "3                              4                     9   \n",
       "4                              3                    25   \n",
       "\n",
       "  Most visited city(highest first)   Unnamed: 6  Unnamed: 7  Unnamed: 8  \n",
       "0                          San Jos�         NaN         NaN         NaN  \n",
       "1                            Sicily         NaN         NaN         NaN  \n",
       "2            Durmitor National Park         NaN         NaN         NaN  \n",
       "3                            Vienna         NaN         NaN         NaN  \n",
       "4                         Belgrade          NaN         NaN         NaN  "
      ],
      "text/html": "<div>\n<style scoped>\n    .dataframe tbody tr th:only-of-type {\n        vertical-align: middle;\n    }\n\n    .dataframe tbody tr th {\n        vertical-align: top;\n    }\n\n    .dataframe thead th {\n        text-align: right;\n    }\n</style>\n<table border=\"1\" class=\"dataframe\">\n  <thead>\n    <tr style=\"text-align: right;\">\n      <th></th>\n      <th>Most visited countries</th>\n      <th>Destinations</th>\n      <th>Feed back scores</th>\n      <th>Stars rating (highest first )</th>\n      <th>All-inclusive hotels</th>\n      <th>Most visited city(highest first)</th>\n      <th>Unnamed: 6</th>\n      <th>Unnamed: 7</th>\n      <th>Unnamed: 8</th>\n    </tr>\n  </thead>\n  <tbody>\n    <tr>\n      <th>0</th>\n      <td>Costa Rica</td>\n      <td>San Jos�</td>\n      <td>8</td>\n      <td>4</td>\n      <td>10</td>\n      <td>San Jos�</td>\n      <td>NaN</td>\n      <td>NaN</td>\n      <td>NaN</td>\n    </tr>\n    <tr>\n      <th>1</th>\n      <td>Montenegro</td>\n      <td>Durmitor National Park</td>\n      <td>6</td>\n      <td>4</td>\n      <td>11</td>\n      <td>Sicily</td>\n      <td>NaN</td>\n      <td>NaN</td>\n      <td>NaN</td>\n    </tr>\n    <tr>\n      <th>2</th>\n      <td>Italy</td>\n      <td>Sicily</td>\n      <td>7</td>\n      <td>3</td>\n      <td>22</td>\n      <td>Durmitor National Park</td>\n      <td>NaN</td>\n      <td>NaN</td>\n      <td>NaN</td>\n    </tr>\n    <tr>\n      <th>3</th>\n      <td>Serbia</td>\n      <td>Belgrade</td>\n      <td>9</td>\n      <td>4</td>\n      <td>9</td>\n      <td>Vienna</td>\n      <td>NaN</td>\n      <td>NaN</td>\n      <td>NaN</td>\n    </tr>\n    <tr>\n      <th>4</th>\n      <td>Austria</td>\n      <td>Vienna</td>\n      <td>8</td>\n      <td>3</td>\n      <td>25</td>\n      <td>Belgrade</td>\n      <td>NaN</td>\n      <td>NaN</td>\n      <td>NaN</td>\n    </tr>\n  </tbody>\n</table>\n</div>"
     },
     "metadata": {},
     "execution_count": 4
    }
   ],
   "source": [
    "destinations_df.head()"
   ]
  },
  {
   "cell_type": "code",
   "execution_count": 20,
   "metadata": {},
   "outputs": [
    {
     "output_type": "execute_result",
     "data": {
      "text/plain": [
       "    Most visited countries            Destinations  Feed back scores  \\\n",
       "0               Costa Rica                San Jos�                 8   \n",
       "1               Montenegro  Durmitor National Park                 6   \n",
       "2                    Italy                  Sicily                 7   \n",
       "3                   Serbia               Belgrade                  9   \n",
       "4                  Austria                  Vienna                 8   \n",
       "5                    Spain                 Seville                 7   \n",
       "6             United State                New York                 5   \n",
       "7               Lithuania                  Vilnius                 8   \n",
       "8                 Portugal                  Lisbon                 8   \n",
       "9                   Mexico                 Canc�n                  6   \n",
       "10                   Japan              Mount Fuji                 7   \n",
       "11                   Spain           Fuerteventura                 7   \n",
       "12                   Egypt                Hurghada                 5   \n",
       "13                  Isreal                Tel Aviv                 6   \n",
       "14                 Ireland                  Galway                 6   \n",
       "15                     UAE                   Dubai                 7   \n",
       "16              Seychelles              Seychelles                 7   \n",
       "\n",
       "    Stars rating (highest first )  All-inclusive hotels  \\\n",
       "0                               4                    10   \n",
       "1                               4                    11   \n",
       "2                               3                    22   \n",
       "3                               4                     9   \n",
       "4                               3                    25   \n",
       "5                               3                    40   \n",
       "6                               4                    23   \n",
       "7                               3                     9   \n",
       "8                               3                    13   \n",
       "9                               3                    15   \n",
       "10                              3                     8   \n",
       "11                              4                    38   \n",
       "12                              3                    25   \n",
       "13                              3                    23   \n",
       "14                              2                    11   \n",
       "15                              5                    25   \n",
       "16                              5                    30   \n",
       "\n",
       "   Most visited city(highest first)   \n",
       "0                           San Jos�  \n",
       "1                             Sicily  \n",
       "2             Durmitor National Park  \n",
       "3                             Vienna  \n",
       "4                          Belgrade   \n",
       "5                            Seville  \n",
       "6                           New York  \n",
       "7                            Vilnius  \n",
       "8                             Lisbon  \n",
       "9                            Canc�n   \n",
       "10                        Mount Fuji  \n",
       "11                     Fuerteventura  \n",
       "12                          Hurghada  \n",
       "13                          Tel Aviv  \n",
       "14                            Galway  \n",
       "15                             Dubai  \n",
       "16                        Seychelles  "
      ],
      "text/html": "<div>\n<style scoped>\n    .dataframe tbody tr th:only-of-type {\n        vertical-align: middle;\n    }\n\n    .dataframe tbody tr th {\n        vertical-align: top;\n    }\n\n    .dataframe thead th {\n        text-align: right;\n    }\n</style>\n<table border=\"1\" class=\"dataframe\">\n  <thead>\n    <tr style=\"text-align: right;\">\n      <th></th>\n      <th>Most visited countries</th>\n      <th>Destinations</th>\n      <th>Feed back scores</th>\n      <th>Stars rating (highest first )</th>\n      <th>All-inclusive hotels</th>\n      <th>Most visited city(highest first)</th>\n    </tr>\n  </thead>\n  <tbody>\n    <tr>\n      <th>0</th>\n      <td>Costa Rica</td>\n      <td>San Jos�</td>\n      <td>8</td>\n      <td>4</td>\n      <td>10</td>\n      <td>San Jos�</td>\n    </tr>\n    <tr>\n      <th>1</th>\n      <td>Montenegro</td>\n      <td>Durmitor National Park</td>\n      <td>6</td>\n      <td>4</td>\n      <td>11</td>\n      <td>Sicily</td>\n    </tr>\n    <tr>\n      <th>2</th>\n      <td>Italy</td>\n      <td>Sicily</td>\n      <td>7</td>\n      <td>3</td>\n      <td>22</td>\n      <td>Durmitor National Park</td>\n    </tr>\n    <tr>\n      <th>3</th>\n      <td>Serbia</td>\n      <td>Belgrade</td>\n      <td>9</td>\n      <td>4</td>\n      <td>9</td>\n      <td>Vienna</td>\n    </tr>\n    <tr>\n      <th>4</th>\n      <td>Austria</td>\n      <td>Vienna</td>\n      <td>8</td>\n      <td>3</td>\n      <td>25</td>\n      <td>Belgrade</td>\n    </tr>\n    <tr>\n      <th>5</th>\n      <td>Spain</td>\n      <td>Seville</td>\n      <td>7</td>\n      <td>3</td>\n      <td>40</td>\n      <td>Seville</td>\n    </tr>\n    <tr>\n      <th>6</th>\n      <td>United State</td>\n      <td>New York</td>\n      <td>5</td>\n      <td>4</td>\n      <td>23</td>\n      <td>New York</td>\n    </tr>\n    <tr>\n      <th>7</th>\n      <td>Lithuania</td>\n      <td>Vilnius</td>\n      <td>8</td>\n      <td>3</td>\n      <td>9</td>\n      <td>Vilnius</td>\n    </tr>\n    <tr>\n      <th>8</th>\n      <td>Portugal</td>\n      <td>Lisbon</td>\n      <td>8</td>\n      <td>3</td>\n      <td>13</td>\n      <td>Lisbon</td>\n    </tr>\n    <tr>\n      <th>9</th>\n      <td>Mexico</td>\n      <td>Canc�n</td>\n      <td>6</td>\n      <td>3</td>\n      <td>15</td>\n      <td>Canc�n</td>\n    </tr>\n    <tr>\n      <th>10</th>\n      <td>Japan</td>\n      <td>Mount Fuji</td>\n      <td>7</td>\n      <td>3</td>\n      <td>8</td>\n      <td>Mount Fuji</td>\n    </tr>\n    <tr>\n      <th>11</th>\n      <td>Spain</td>\n      <td>Fuerteventura</td>\n      <td>7</td>\n      <td>4</td>\n      <td>38</td>\n      <td>Fuerteventura</td>\n    </tr>\n    <tr>\n      <th>12</th>\n      <td>Egypt</td>\n      <td>Hurghada</td>\n      <td>5</td>\n      <td>3</td>\n      <td>25</td>\n      <td>Hurghada</td>\n    </tr>\n    <tr>\n      <th>13</th>\n      <td>Isreal</td>\n      <td>Tel Aviv</td>\n      <td>6</td>\n      <td>3</td>\n      <td>23</td>\n      <td>Tel Aviv</td>\n    </tr>\n    <tr>\n      <th>14</th>\n      <td>Ireland</td>\n      <td>Galway</td>\n      <td>6</td>\n      <td>2</td>\n      <td>11</td>\n      <td>Galway</td>\n    </tr>\n    <tr>\n      <th>15</th>\n      <td>UAE</td>\n      <td>Dubai</td>\n      <td>7</td>\n      <td>5</td>\n      <td>25</td>\n      <td>Dubai</td>\n    </tr>\n    <tr>\n      <th>16</th>\n      <td>Seychelles</td>\n      <td>Seychelles</td>\n      <td>7</td>\n      <td>5</td>\n      <td>30</td>\n      <td>Seychelles</td>\n    </tr>\n  </tbody>\n</table>\n</div>"
     },
     "metadata": {},
     "execution_count": 20
    }
   ],
   "source": [
    "\n",
    "destinations_df\n"
   ]
  },
  {
   "cell_type": "code",
   "execution_count": 18,
   "metadata": {},
   "outputs": [
    {
     "output_type": "execute_result",
     "data": {
      "text/plain": [
       "(17, 6)"
      ]
     },
     "metadata": {},
     "execution_count": 18
    }
   ],
   "source": [
    "# How many rows and columns are there in your file?\n",
    "\n",
    "destinations_df.shape\n",
    "\n",
    "# 17 rows  and 6 columns"
   ]
  },
  {
   "cell_type": "code",
   "execution_count": 22,
   "metadata": {},
   "outputs": [
    {
     "output_type": "stream",
     "name": "stdout",
     "text": [
      "   Most visited countries Destinations  Feed back scores  \\\n3                  Serbia    Belgrade                  9   \n4                 Austria       Vienna                 8   \n5                   Spain      Seville                 7   \n6            United State     New York                 5   \n7              Lithuania       Vilnius                 8   \n8                Portugal       Lisbon                 8   \n\n   Stars rating (highest first )  All-inclusive hotels  \\\n3                              4                     9   \n4                              3                    25   \n5                              3                    40   \n6                              4                    23   \n7                              3                     9   \n8                              3                    13   \n\n  Most visited city(highest first)   \n3                            Vienna  \n4                         Belgrade   \n5                           Seville  \n6                          New York  \n7                           Vilnius  \n8                            Lisbon  \n"
     ]
    }
   ],
   "source": [
    "# Print row 3-8 ( using iloc/loc) \n",
    "\n",
    "# selecting range of rows from 3 to 8\n",
    "\n",
    "print(destinations_df.loc[3 : 8])"
   ]
  },
  {
   "cell_type": "code",
   "execution_count": 23,
   "metadata": {},
   "outputs": [
    {
     "output_type": "stream",
     "name": "stdout",
     "text": [
      "   Most visited countries Destinations  Feed back scores  \\\n3                  Serbia    Belgrade                  9   \n4                 Austria       Vienna                 8   \n5                   Spain      Seville                 7   \n6            United State     New York                 5   \n7              Lithuania       Vilnius                 8   \n\n   Stars rating (highest first )  All-inclusive hotels  \\\n3                              4                     9   \n4                              3                    25   \n5                              3                    40   \n6                              4                    23   \n7                              3                     9   \n\n  Most visited city(highest first)   \n3                            Vienna  \n4                         Belgrade   \n5                           Seville  \n6                          New York  \n7                           Vilnius  \n"
     ]
    }
   ],
   "source": [
    "# Print row 3-8 ( using iloc/loc) \n",
    "\n",
    "# selecting range of rows from 3 to 8\n",
    "\n",
    "print(destinations_df.iloc[3 : 8])\n"
   ]
  },
  {
   "cell_type": "code",
   "execution_count": 25,
   "metadata": {},
   "outputs": [
    {
     "output_type": "stream",
     "name": "stdout",
     "text": [
      "   Most visited countries Destinations  Feed back scores  \\\n3                  Serbia    Belgrade                  9   \n4                 Austria       Vienna                 8   \n5                   Spain      Seville                 7   \n6            United State     New York                 5   \n7              Lithuania       Vilnius                 8   \n8                Portugal       Lisbon                 8   \n\n   Stars rating (highest first )  All-inclusive hotels  \\\n3                              4                     9   \n4                              3                    25   \n5                              3                    40   \n6                              4                    23   \n7                              3                     9   \n8                              3                    13   \n\n  Most visited city(highest first)   \n3                            Vienna  \n4                         Belgrade   \n5                           Seville  \n6                          New York  \n7                           Vilnius  \n8                            Lisbon  \n"
     ]
    }
   ],
   "source": [
    "# selecting 3th, 4th, 5th, 6th,7th and 8th index rows\n",
    "\n",
    "print(destinations_df.iloc[[3, 4, 5, 6, 7, 8]])\n"
   ]
  },
  {
   "cell_type": "code",
   "execution_count": 26,
   "metadata": {},
   "outputs": [
    {
     "output_type": "execute_result",
     "data": {
      "text/plain": [
       "19.823529411764707"
      ]
     },
     "metadata": {},
     "execution_count": 26
    }
   ],
   "source": [
    "# Find the mean number of all-inclusive hotels across all destinations.\n",
    "\n",
    "destinations_df = pd.read_csv('D:\\data.academy\\holiday destinations.csv')\n",
    "destinations_df['All-inclusive hotels'].mean()\n"
   ]
  },
  {
   "cell_type": "code",
   "execution_count": 27,
   "metadata": {},
   "outputs": [
    {
     "output_type": "execute_result",
     "data": {
      "text/plain": [
       " Most visited countries                Austria\n",
       "Destinations                         Belgrade \n",
       "Feed back scores                             5\n",
       "Stars rating (highest first )                2\n",
       "All-inclusive hotels                         8\n",
       "Most visited city(highest first)     Belgrade \n",
       "Unnamed: 6                                 NaN\n",
       "Unnamed: 7                                 NaN\n",
       "Unnamed: 8                                 NaN\n",
       "dtype: object"
      ]
     },
     "metadata": {},
     "execution_count": 27
    }
   ],
   "source": [
    "# Find the lowest scoring destination.\n",
    "\n",
    "destinations_df.min()"
   ]
  },
  {
   "cell_type": "code",
   "execution_count": 28,
   "metadata": {},
   "outputs": [
    {
     "output_type": "execute_result",
     "data": {
      "text/plain": [
       " Most visited countries              United State\n",
       "Destinations                              Vilnius\n",
       "Feed back scores                                9\n",
       "Stars rating (highest first )                   5\n",
       "All-inclusive hotels                           40\n",
       "Most visited city(highest first)          Vilnius\n",
       "Unnamed: 6                                    NaN\n",
       "Unnamed: 7                                    NaN\n",
       "Unnamed: 8                                    NaN\n",
       "dtype: object"
      ]
     },
     "metadata": {},
     "execution_count": 28
    }
   ],
   "source": [
    "# Find the highest scoring destination.\n",
    "\n",
    "destinations_df.max()"
   ]
  },
  {
   "cell_type": "code",
   "execution_count": 33,
   "metadata": {},
   "outputs": [
    {
     "output_type": "execute_result",
     "data": {
      "text/plain": [
       "0      True\n",
       "1      True\n",
       "2      True\n",
       "3     False\n",
       "4      True\n",
       "5      True\n",
       "6      True\n",
       "7     False\n",
       "8      True\n",
       "9      True\n",
       "10    False\n",
       "11     True\n",
       "12     True\n",
       "13     True\n",
       "14     True\n",
       "15     True\n",
       "16     True\n",
       "Name: All-inclusive hotels, dtype: bool"
      ]
     },
     "metadata": {},
     "execution_count": 33
    }
   ],
   "source": [
    "# Find all the destinations where there are more than 9 all-inclusive hotels.\n",
    "\n",
    "myfilter = destinations_df['All-inclusive hotels'] > 9\n",
    "\n",
    "myfilter"
   ]
  },
  {
   "cell_type": "code",
   "execution_count": 48,
   "metadata": {},
   "outputs": [
    {
     "output_type": "execute_result",
     "data": {
      "text/plain": [
       "   Most visited countries Destinations  Feed back scores  \\\n",
       "3                  Serbia    Belgrade                  9   \n",
       "\n",
       "   Stars rating (highest first )  All-inclusive hotels  \\\n",
       "3                              4                     9   \n",
       "\n",
       "  Most visited city(highest first)   Unnamed: 6  Unnamed: 7  Unnamed: 8  \n",
       "3                            Vienna         NaN         NaN         NaN  "
      ],
      "text/html": "<div>\n<style scoped>\n    .dataframe tbody tr th:only-of-type {\n        vertical-align: middle;\n    }\n\n    .dataframe tbody tr th {\n        vertical-align: top;\n    }\n\n    .dataframe thead th {\n        text-align: right;\n    }\n</style>\n<table border=\"1\" class=\"dataframe\">\n  <thead>\n    <tr style=\"text-align: right;\">\n      <th></th>\n      <th>Most visited countries</th>\n      <th>Destinations</th>\n      <th>Feed back scores</th>\n      <th>Stars rating (highest first )</th>\n      <th>All-inclusive hotels</th>\n      <th>Most visited city(highest first)</th>\n      <th>Unnamed: 6</th>\n      <th>Unnamed: 7</th>\n      <th>Unnamed: 8</th>\n    </tr>\n  </thead>\n  <tbody>\n    <tr>\n      <th>3</th>\n      <td>Serbia</td>\n      <td>Belgrade</td>\n      <td>9</td>\n      <td>4</td>\n      <td>9</td>\n      <td>Vienna</td>\n      <td>NaN</td>\n      <td>NaN</td>\n      <td>NaN</td>\n    </tr>\n  </tbody>\n</table>\n</div>"
     },
     "metadata": {},
     "execution_count": 48
    }
   ],
   "source": [
    "All_inclusive = destinations_df[myfilter]\n",
    "All_inclusive. head()"
   ]
  },
  {
   "cell_type": "code",
   "execution_count": 40,
   "metadata": {},
   "outputs": [
    {
     "output_type": "execute_result",
     "data": {
      "text/plain": [
       "0     False\n",
       "1     False\n",
       "2     False\n",
       "3      True\n",
       "4     False\n",
       "5     False\n",
       "6     False\n",
       "7     False\n",
       "8     False\n",
       "9     False\n",
       "10    False\n",
       "11    False\n",
       "12    False\n",
       "13    False\n",
       "14    False\n",
       "15    False\n",
       "16    False\n",
       "Name: Feed back scores, dtype: bool"
      ]
     },
     "metadata": {},
     "execution_count": 40
    }
   ],
   "source": [
    "# Filter the data by score above 8.  \n",
    "\n",
    "myfilter = destinations_df['Feed back scores'] > 8\n",
    "\n",
    "myfilter "
   ]
  },
  {
   "cell_type": "code",
   "execution_count": 49,
   "metadata": {},
   "outputs": [
    {
     "output_type": "execute_result",
     "data": {
      "text/plain": [
       "                               Feed back scores  \\\n",
       "Feed back scores                       1.000000   \n",
       "Stars rating (highest first )          0.136480   \n",
       "All-inclusive hotels                  -0.229516   \n",
       "Unnamed: 6                                  NaN   \n",
       "Unnamed: 7                                  NaN   \n",
       "Unnamed: 8                                  NaN   \n",
       "\n",
       "                               Stars rating (highest first )  \\\n",
       "Feed back scores                                    0.136480   \n",
       "Stars rating (highest first )                       1.000000   \n",
       "All-inclusive hotels                                0.242267   \n",
       "Unnamed: 6                                               NaN   \n",
       "Unnamed: 7                                               NaN   \n",
       "Unnamed: 8                                               NaN   \n",
       "\n",
       "                               All-inclusive hotels  Unnamed: 6  Unnamed: 7  \\\n",
       "Feed back scores                          -0.229516         NaN         NaN   \n",
       "Stars rating (highest first )              0.242267         NaN         NaN   \n",
       "All-inclusive hotels                       1.000000         NaN         NaN   \n",
       "Unnamed: 6                                      NaN         NaN         NaN   \n",
       "Unnamed: 7                                      NaN         NaN         NaN   \n",
       "Unnamed: 8                                      NaN         NaN         NaN   \n",
       "\n",
       "                               Unnamed: 8  \n",
       "Feed back scores                      NaN  \n",
       "Stars rating (highest first )         NaN  \n",
       "All-inclusive hotels                  NaN  \n",
       "Unnamed: 6                            NaN  \n",
       "Unnamed: 7                            NaN  \n",
       "Unnamed: 8                            NaN  "
      ],
      "text/html": "<div>\n<style scoped>\n    .dataframe tbody tr th:only-of-type {\n        vertical-align: middle;\n    }\n\n    .dataframe tbody tr th {\n        vertical-align: top;\n    }\n\n    .dataframe thead th {\n        text-align: right;\n    }\n</style>\n<table border=\"1\" class=\"dataframe\">\n  <thead>\n    <tr style=\"text-align: right;\">\n      <th></th>\n      <th>Feed back scores</th>\n      <th>Stars rating (highest first )</th>\n      <th>All-inclusive hotels</th>\n      <th>Unnamed: 6</th>\n      <th>Unnamed: 7</th>\n      <th>Unnamed: 8</th>\n    </tr>\n  </thead>\n  <tbody>\n    <tr>\n      <th>Feed back scores</th>\n      <td>1.000000</td>\n      <td>0.136480</td>\n      <td>-0.229516</td>\n      <td>NaN</td>\n      <td>NaN</td>\n      <td>NaN</td>\n    </tr>\n    <tr>\n      <th>Stars rating (highest first )</th>\n      <td>0.136480</td>\n      <td>1.000000</td>\n      <td>0.242267</td>\n      <td>NaN</td>\n      <td>NaN</td>\n      <td>NaN</td>\n    </tr>\n    <tr>\n      <th>All-inclusive hotels</th>\n      <td>-0.229516</td>\n      <td>0.242267</td>\n      <td>1.000000</td>\n      <td>NaN</td>\n      <td>NaN</td>\n      <td>NaN</td>\n    </tr>\n    <tr>\n      <th>Unnamed: 6</th>\n      <td>NaN</td>\n      <td>NaN</td>\n      <td>NaN</td>\n      <td>NaN</td>\n      <td>NaN</td>\n      <td>NaN</td>\n    </tr>\n    <tr>\n      <th>Unnamed: 7</th>\n      <td>NaN</td>\n      <td>NaN</td>\n      <td>NaN</td>\n      <td>NaN</td>\n      <td>NaN</td>\n      <td>NaN</td>\n    </tr>\n    <tr>\n      <th>Unnamed: 8</th>\n      <td>NaN</td>\n      <td>NaN</td>\n      <td>NaN</td>\n      <td>NaN</td>\n      <td>NaN</td>\n      <td>NaN</td>\n    </tr>\n  </tbody>\n</table>\n</div>"
     },
     "metadata": {},
     "execution_count": 49
    }
   ],
   "source": [
    "# Is there a correlation between number of all-inclusive hotels and score?\n",
    "\n",
    "destinations_df.corr()"
   ]
  },
  {
   "cell_type": "code",
   "execution_count": null,
   "metadata": {},
   "outputs": [],
   "source": [
    "# there is a negative correlation between all-inclusive hotels and score"
   ]
  },
  {
   "cell_type": "code",
   "execution_count": 51,
   "metadata": {},
   "outputs": [
    {
     "output_type": "execute_result",
     "data": {
      "text/plain": [
       "    Most visited countries            Destinations  Feed back scores  \\\n",
       "0               Costa Rica                San Jos�                 8   \n",
       "1               Montenegro  Durmitor National Park                 6   \n",
       "2                    Italy                  Sicily                 7   \n",
       "3                   Serbia               Belgrade                  9   \n",
       "4                  Austria                  Vienna                 8   \n",
       "5                    Spain                 Seville                 7   \n",
       "6             United State                New York                 5   \n",
       "7               Lithuania                  Vilnius                 8   \n",
       "8                 Portugal                  Lisbon                 8   \n",
       "9                   Mexico                 Canc�n                  6   \n",
       "10                   Japan              Mount Fuji                 7   \n",
       "11                   Spain           Fuerteventura                 7   \n",
       "12                   Egypt                Hurghada                 5   \n",
       "13                  Isreal                Tel Aviv                 6   \n",
       "14                 Ireland                  Galway                 6   \n",
       "15                     UAE                   Dubai                 7   \n",
       "16              Seychelles              Seychelles                 7   \n",
       "\n",
       "    Stars rating (highest first )  All-inclusive hotels  \\\n",
       "0                               4                    10   \n",
       "1                               4                    11   \n",
       "2                               3                    22   \n",
       "3                               4                     9   \n",
       "4                               3                    25   \n",
       "5                               3                    40   \n",
       "6                               4                    23   \n",
       "7                               3                     9   \n",
       "8                               3                    13   \n",
       "9                               3                    15   \n",
       "10                              3                     8   \n",
       "11                              4                    38   \n",
       "12                              3                    25   \n",
       "13                              3                    23   \n",
       "14                              2                    11   \n",
       "15                              5                    25   \n",
       "16                              5                    30   \n",
       "\n",
       "   Most visited city(highest first)   Unnamed: 6  Unnamed: 7  Unnamed: 8  \n",
       "0                           San Jos�         NaN         NaN         NaN  \n",
       "1                             Sicily         NaN         NaN         NaN  \n",
       "2             Durmitor National Park         NaN         NaN         NaN  \n",
       "3                             Vienna         NaN         NaN         NaN  \n",
       "4                          Belgrade          NaN         NaN         NaN  \n",
       "5                            Seville         NaN         NaN         NaN  \n",
       "6                           New York         NaN         NaN         NaN  \n",
       "7                            Vilnius         NaN         NaN         NaN  \n",
       "8                             Lisbon         NaN         NaN         NaN  \n",
       "9                            Canc�n          NaN         NaN         NaN  \n",
       "10                        Mount Fuji         NaN         NaN         NaN  \n",
       "11                     Fuerteventura         NaN         NaN         NaN  \n",
       "12                          Hurghada         NaN         NaN         NaN  \n",
       "13                          Tel Aviv         NaN         NaN         NaN  \n",
       "14                            Galway         NaN         NaN         NaN  \n",
       "15                             Dubai         NaN         NaN         NaN  \n",
       "16                        Seychelles         NaN         NaN         NaN  "
      ],
      "text/html": "<div>\n<style scoped>\n    .dataframe tbody tr th:only-of-type {\n        vertical-align: middle;\n    }\n\n    .dataframe tbody tr th {\n        vertical-align: top;\n    }\n\n    .dataframe thead th {\n        text-align: right;\n    }\n</style>\n<table border=\"1\" class=\"dataframe\">\n  <thead>\n    <tr style=\"text-align: right;\">\n      <th></th>\n      <th>Most visited countries</th>\n      <th>Destinations</th>\n      <th>Feed back scores</th>\n      <th>Stars rating (highest first )</th>\n      <th>All-inclusive hotels</th>\n      <th>Most visited city(highest first)</th>\n      <th>Unnamed: 6</th>\n      <th>Unnamed: 7</th>\n      <th>Unnamed: 8</th>\n    </tr>\n  </thead>\n  <tbody>\n    <tr>\n      <th>0</th>\n      <td>Costa Rica</td>\n      <td>San Jos�</td>\n      <td>8</td>\n      <td>4</td>\n      <td>10</td>\n      <td>San Jos�</td>\n      <td>NaN</td>\n      <td>NaN</td>\n      <td>NaN</td>\n    </tr>\n    <tr>\n      <th>1</th>\n      <td>Montenegro</td>\n      <td>Durmitor National Park</td>\n      <td>6</td>\n      <td>4</td>\n      <td>11</td>\n      <td>Sicily</td>\n      <td>NaN</td>\n      <td>NaN</td>\n      <td>NaN</td>\n    </tr>\n    <tr>\n      <th>2</th>\n      <td>Italy</td>\n      <td>Sicily</td>\n      <td>7</td>\n      <td>3</td>\n      <td>22</td>\n      <td>Durmitor National Park</td>\n      <td>NaN</td>\n      <td>NaN</td>\n      <td>NaN</td>\n    </tr>\n    <tr>\n      <th>3</th>\n      <td>Serbia</td>\n      <td>Belgrade</td>\n      <td>9</td>\n      <td>4</td>\n      <td>9</td>\n      <td>Vienna</td>\n      <td>NaN</td>\n      <td>NaN</td>\n      <td>NaN</td>\n    </tr>\n    <tr>\n      <th>4</th>\n      <td>Austria</td>\n      <td>Vienna</td>\n      <td>8</td>\n      <td>3</td>\n      <td>25</td>\n      <td>Belgrade</td>\n      <td>NaN</td>\n      <td>NaN</td>\n      <td>NaN</td>\n    </tr>\n    <tr>\n      <th>5</th>\n      <td>Spain</td>\n      <td>Seville</td>\n      <td>7</td>\n      <td>3</td>\n      <td>40</td>\n      <td>Seville</td>\n      <td>NaN</td>\n      <td>NaN</td>\n      <td>NaN</td>\n    </tr>\n    <tr>\n      <th>6</th>\n      <td>United State</td>\n      <td>New York</td>\n      <td>5</td>\n      <td>4</td>\n      <td>23</td>\n      <td>New York</td>\n      <td>NaN</td>\n      <td>NaN</td>\n      <td>NaN</td>\n    </tr>\n    <tr>\n      <th>7</th>\n      <td>Lithuania</td>\n      <td>Vilnius</td>\n      <td>8</td>\n      <td>3</td>\n      <td>9</td>\n      <td>Vilnius</td>\n      <td>NaN</td>\n      <td>NaN</td>\n      <td>NaN</td>\n    </tr>\n    <tr>\n      <th>8</th>\n      <td>Portugal</td>\n      <td>Lisbon</td>\n      <td>8</td>\n      <td>3</td>\n      <td>13</td>\n      <td>Lisbon</td>\n      <td>NaN</td>\n      <td>NaN</td>\n      <td>NaN</td>\n    </tr>\n    <tr>\n      <th>9</th>\n      <td>Mexico</td>\n      <td>Canc�n</td>\n      <td>6</td>\n      <td>3</td>\n      <td>15</td>\n      <td>Canc�n</td>\n      <td>NaN</td>\n      <td>NaN</td>\n      <td>NaN</td>\n    </tr>\n    <tr>\n      <th>10</th>\n      <td>Japan</td>\n      <td>Mount Fuji</td>\n      <td>7</td>\n      <td>3</td>\n      <td>8</td>\n      <td>Mount Fuji</td>\n      <td>NaN</td>\n      <td>NaN</td>\n      <td>NaN</td>\n    </tr>\n    <tr>\n      <th>11</th>\n      <td>Spain</td>\n      <td>Fuerteventura</td>\n      <td>7</td>\n      <td>4</td>\n      <td>38</td>\n      <td>Fuerteventura</td>\n      <td>NaN</td>\n      <td>NaN</td>\n      <td>NaN</td>\n    </tr>\n    <tr>\n      <th>12</th>\n      <td>Egypt</td>\n      <td>Hurghada</td>\n      <td>5</td>\n      <td>3</td>\n      <td>25</td>\n      <td>Hurghada</td>\n      <td>NaN</td>\n      <td>NaN</td>\n      <td>NaN</td>\n    </tr>\n    <tr>\n      <th>13</th>\n      <td>Isreal</td>\n      <td>Tel Aviv</td>\n      <td>6</td>\n      <td>3</td>\n      <td>23</td>\n      <td>Tel Aviv</td>\n      <td>NaN</td>\n      <td>NaN</td>\n      <td>NaN</td>\n    </tr>\n    <tr>\n      <th>14</th>\n      <td>Ireland</td>\n      <td>Galway</td>\n      <td>6</td>\n      <td>2</td>\n      <td>11</td>\n      <td>Galway</td>\n      <td>NaN</td>\n      <td>NaN</td>\n      <td>NaN</td>\n    </tr>\n    <tr>\n      <th>15</th>\n      <td>UAE</td>\n      <td>Dubai</td>\n      <td>7</td>\n      <td>5</td>\n      <td>25</td>\n      <td>Dubai</td>\n      <td>NaN</td>\n      <td>NaN</td>\n      <td>NaN</td>\n    </tr>\n    <tr>\n      <th>16</th>\n      <td>Seychelles</td>\n      <td>Seychelles</td>\n      <td>7</td>\n      <td>5</td>\n      <td>30</td>\n      <td>Seychelles</td>\n      <td>NaN</td>\n      <td>NaN</td>\n      <td>NaN</td>\n    </tr>\n  </tbody>\n</table>\n</div>"
     },
     "metadata": {},
     "execution_count": 51
    }
   ],
   "source": [
    "# Create a data visualisation diagram to show destination and highest scores?\n",
    "\n",
    "destinations_df"
   ]
  },
  {
   "cell_type": "code",
   "execution_count": 54,
   "metadata": {},
   "outputs": [
    {
     "output_type": "execute_result",
     "data": {
      "text/plain": [
       "<AxesSubplot:>"
      ]
     },
     "metadata": {},
     "execution_count": 54
    },
    {
     "output_type": "display_data",
     "data": {
      "text/plain": "<Figure size 432x288 with 1 Axes>",
      "image/svg+xml": "<?xml version=\"1.0\" encoding=\"utf-8\" standalone=\"no\"?>\r\n<!DOCTYPE svg PUBLIC \"-//W3C//DTD SVG 1.1//EN\"\r\n  \"http://www.w3.org/Graphics/SVG/1.1/DTD/svg11.dtd\">\r\n<!-- Created with matplotlib (https://matplotlib.org/) -->\r\n<svg height=\"248.518125pt\" version=\"1.1\" viewBox=\"0 0 368.925 248.518125\" width=\"368.925pt\" xmlns=\"http://www.w3.org/2000/svg\" xmlns:xlink=\"http://www.w3.org/1999/xlink\">\r\n <metadata>\r\n  <rdf:RDF xmlns:cc=\"http://creativecommons.org/ns#\" xmlns:dc=\"http://purl.org/dc/elements/1.1/\" xmlns:rdf=\"http://www.w3.org/1999/02/22-rdf-syntax-ns#\">\r\n   <cc:Work>\r\n    <dc:type rdf:resource=\"http://purl.org/dc/dcmitype/StillImage\"/>\r\n    <dc:date>2021-05-25T22:53:14.120981</dc:date>\r\n    <dc:format>image/svg+xml</dc:format>\r\n    <dc:creator>\r\n     <cc:Agent>\r\n      <dc:title>Matplotlib v3.3.4, https://matplotlib.org/</dc:title>\r\n     </cc:Agent>\r\n    </dc:creator>\r\n   </cc:Work>\r\n  </rdf:RDF>\r\n </metadata>\r\n <defs>\r\n  <style type=\"text/css\">*{stroke-linecap:butt;stroke-linejoin:round;}</style>\r\n </defs>\r\n <g id=\"figure_1\">\r\n  <g id=\"patch_1\">\r\n   <path d=\"M -0 248.518125 \r\nL 368.925 248.518125 \r\nL 368.925 0 \r\nL -0 0 \r\nz\r\n\" style=\"fill:none;\"/>\r\n  </g>\r\n  <g id=\"axes_1\">\r\n   <g id=\"patch_2\">\r\n    <path d=\"M 26.925 224.64 \r\nL 361.725 224.64 \r\nL 361.725 7.2 \r\nL 26.925 7.2 \r\nz\r\n\" style=\"fill:#ffffff;\"/>\r\n   </g>\r\n   <g id=\"matplotlib.axis_1\">\r\n    <g id=\"xtick_1\">\r\n     <g id=\"line2d_1\">\r\n      <defs>\r\n       <path d=\"M 0 0 \r\nL 0 3.5 \r\n\" id=\"mbffc14464e\" style=\"stroke:#000000;stroke-width:0.8;\"/>\r\n      </defs>\r\n      <g>\r\n       <use style=\"stroke:#000000;stroke-width:0.8;\" x=\"42.143182\" xlink:href=\"#mbffc14464e\" y=\"224.64\"/>\r\n      </g>\r\n     </g>\r\n     <g id=\"text_1\">\r\n      <!-- 0 -->\r\n      <g transform=\"translate(38.961932 239.238437)scale(0.1 -0.1)\">\r\n       <defs>\r\n        <path d=\"M 31.78125 66.40625 \r\nQ 24.171875 66.40625 20.328125 58.90625 \r\nQ 16.5 51.421875 16.5 36.375 \r\nQ 16.5 21.390625 20.328125 13.890625 \r\nQ 24.171875 6.390625 31.78125 6.390625 \r\nQ 39.453125 6.390625 43.28125 13.890625 \r\nQ 47.125 21.390625 47.125 36.375 \r\nQ 47.125 51.421875 43.28125 58.90625 \r\nQ 39.453125 66.40625 31.78125 66.40625 \r\nz\r\nM 31.78125 74.21875 \r\nQ 44.046875 74.21875 50.515625 64.515625 \r\nQ 56.984375 54.828125 56.984375 36.375 \r\nQ 56.984375 17.96875 50.515625 8.265625 \r\nQ 44.046875 -1.421875 31.78125 -1.421875 \r\nQ 19.53125 -1.421875 13.0625 8.265625 \r\nQ 6.59375 17.96875 6.59375 36.375 \r\nQ 6.59375 54.828125 13.0625 64.515625 \r\nQ 19.53125 74.21875 31.78125 74.21875 \r\nz\r\n\" id=\"DejaVuSans-48\"/>\r\n       </defs>\r\n       <use xlink:href=\"#DejaVuSans-48\"/>\r\n      </g>\r\n     </g>\r\n    </g>\r\n    <g id=\"xtick_2\">\r\n     <g id=\"line2d_2\">\r\n      <g>\r\n       <use style=\"stroke:#000000;stroke-width:0.8;\" x=\"80.188636\" xlink:href=\"#mbffc14464e\" y=\"224.64\"/>\r\n      </g>\r\n     </g>\r\n     <g id=\"text_2\">\r\n      <!-- 2 -->\r\n      <g transform=\"translate(77.007386 239.238437)scale(0.1 -0.1)\">\r\n       <defs>\r\n        <path d=\"M 19.1875 8.296875 \r\nL 53.609375 8.296875 \r\nL 53.609375 0 \r\nL 7.328125 0 \r\nL 7.328125 8.296875 \r\nQ 12.9375 14.109375 22.625 23.890625 \r\nQ 32.328125 33.6875 34.8125 36.53125 \r\nQ 39.546875 41.84375 41.421875 45.53125 \r\nQ 43.3125 49.21875 43.3125 52.78125 \r\nQ 43.3125 58.59375 39.234375 62.25 \r\nQ 35.15625 65.921875 28.609375 65.921875 \r\nQ 23.96875 65.921875 18.8125 64.3125 \r\nQ 13.671875 62.703125 7.8125 59.421875 \r\nL 7.8125 69.390625 \r\nQ 13.765625 71.78125 18.9375 73 \r\nQ 24.125 74.21875 28.421875 74.21875 \r\nQ 39.75 74.21875 46.484375 68.546875 \r\nQ 53.21875 62.890625 53.21875 53.421875 \r\nQ 53.21875 48.921875 51.53125 44.890625 \r\nQ 49.859375 40.875 45.40625 35.40625 \r\nQ 44.1875 33.984375 37.640625 27.21875 \r\nQ 31.109375 20.453125 19.1875 8.296875 \r\nz\r\n\" id=\"DejaVuSans-50\"/>\r\n       </defs>\r\n       <use xlink:href=\"#DejaVuSans-50\"/>\r\n      </g>\r\n     </g>\r\n    </g>\r\n    <g id=\"xtick_3\">\r\n     <g id=\"line2d_3\">\r\n      <g>\r\n       <use style=\"stroke:#000000;stroke-width:0.8;\" x=\"118.234091\" xlink:href=\"#mbffc14464e\" y=\"224.64\"/>\r\n      </g>\r\n     </g>\r\n     <g id=\"text_3\">\r\n      <!-- 4 -->\r\n      <g transform=\"translate(115.052841 239.238437)scale(0.1 -0.1)\">\r\n       <defs>\r\n        <path d=\"M 37.796875 64.3125 \r\nL 12.890625 25.390625 \r\nL 37.796875 25.390625 \r\nz\r\nM 35.203125 72.90625 \r\nL 47.609375 72.90625 \r\nL 47.609375 25.390625 \r\nL 58.015625 25.390625 \r\nL 58.015625 17.1875 \r\nL 47.609375 17.1875 \r\nL 47.609375 0 \r\nL 37.796875 0 \r\nL 37.796875 17.1875 \r\nL 4.890625 17.1875 \r\nL 4.890625 26.703125 \r\nz\r\n\" id=\"DejaVuSans-52\"/>\r\n       </defs>\r\n       <use xlink:href=\"#DejaVuSans-52\"/>\r\n      </g>\r\n     </g>\r\n    </g>\r\n    <g id=\"xtick_4\">\r\n     <g id=\"line2d_4\">\r\n      <g>\r\n       <use style=\"stroke:#000000;stroke-width:0.8;\" x=\"156.279545\" xlink:href=\"#mbffc14464e\" y=\"224.64\"/>\r\n      </g>\r\n     </g>\r\n     <g id=\"text_4\">\r\n      <!-- 6 -->\r\n      <g transform=\"translate(153.098295 239.238437)scale(0.1 -0.1)\">\r\n       <defs>\r\n        <path d=\"M 33.015625 40.375 \r\nQ 26.375 40.375 22.484375 35.828125 \r\nQ 18.609375 31.296875 18.609375 23.390625 \r\nQ 18.609375 15.53125 22.484375 10.953125 \r\nQ 26.375 6.390625 33.015625 6.390625 \r\nQ 39.65625 6.390625 43.53125 10.953125 \r\nQ 47.40625 15.53125 47.40625 23.390625 \r\nQ 47.40625 31.296875 43.53125 35.828125 \r\nQ 39.65625 40.375 33.015625 40.375 \r\nz\r\nM 52.59375 71.296875 \r\nL 52.59375 62.3125 \r\nQ 48.875 64.0625 45.09375 64.984375 \r\nQ 41.3125 65.921875 37.59375 65.921875 \r\nQ 27.828125 65.921875 22.671875 59.328125 \r\nQ 17.53125 52.734375 16.796875 39.40625 \r\nQ 19.671875 43.65625 24.015625 45.921875 \r\nQ 28.375 48.1875 33.59375 48.1875 \r\nQ 44.578125 48.1875 50.953125 41.515625 \r\nQ 57.328125 34.859375 57.328125 23.390625 \r\nQ 57.328125 12.15625 50.6875 5.359375 \r\nQ 44.046875 -1.421875 33.015625 -1.421875 \r\nQ 20.359375 -1.421875 13.671875 8.265625 \r\nQ 6.984375 17.96875 6.984375 36.375 \r\nQ 6.984375 53.65625 15.1875 63.9375 \r\nQ 23.390625 74.21875 37.203125 74.21875 \r\nQ 40.921875 74.21875 44.703125 73.484375 \r\nQ 48.484375 72.75 52.59375 71.296875 \r\nz\r\n\" id=\"DejaVuSans-54\"/>\r\n       </defs>\r\n       <use xlink:href=\"#DejaVuSans-54\"/>\r\n      </g>\r\n     </g>\r\n    </g>\r\n    <g id=\"xtick_5\">\r\n     <g id=\"line2d_5\">\r\n      <g>\r\n       <use style=\"stroke:#000000;stroke-width:0.8;\" x=\"194.325\" xlink:href=\"#mbffc14464e\" y=\"224.64\"/>\r\n      </g>\r\n     </g>\r\n     <g id=\"text_5\">\r\n      <!-- 8 -->\r\n      <g transform=\"translate(191.14375 239.238437)scale(0.1 -0.1)\">\r\n       <defs>\r\n        <path d=\"M 31.78125 34.625 \r\nQ 24.75 34.625 20.71875 30.859375 \r\nQ 16.703125 27.09375 16.703125 20.515625 \r\nQ 16.703125 13.921875 20.71875 10.15625 \r\nQ 24.75 6.390625 31.78125 6.390625 \r\nQ 38.8125 6.390625 42.859375 10.171875 \r\nQ 46.921875 13.96875 46.921875 20.515625 \r\nQ 46.921875 27.09375 42.890625 30.859375 \r\nQ 38.875 34.625 31.78125 34.625 \r\nz\r\nM 21.921875 38.8125 \r\nQ 15.578125 40.375 12.03125 44.71875 \r\nQ 8.5 49.078125 8.5 55.328125 \r\nQ 8.5 64.0625 14.71875 69.140625 \r\nQ 20.953125 74.21875 31.78125 74.21875 \r\nQ 42.671875 74.21875 48.875 69.140625 \r\nQ 55.078125 64.0625 55.078125 55.328125 \r\nQ 55.078125 49.078125 51.53125 44.71875 \r\nQ 48 40.375 41.703125 38.8125 \r\nQ 48.828125 37.15625 52.796875 32.3125 \r\nQ 56.78125 27.484375 56.78125 20.515625 \r\nQ 56.78125 9.90625 50.3125 4.234375 \r\nQ 43.84375 -1.421875 31.78125 -1.421875 \r\nQ 19.734375 -1.421875 13.25 4.234375 \r\nQ 6.78125 9.90625 6.78125 20.515625 \r\nQ 6.78125 27.484375 10.78125 32.3125 \r\nQ 14.796875 37.15625 21.921875 38.8125 \r\nz\r\nM 18.3125 54.390625 \r\nQ 18.3125 48.734375 21.84375 45.5625 \r\nQ 25.390625 42.390625 31.78125 42.390625 \r\nQ 38.140625 42.390625 41.71875 45.5625 \r\nQ 45.3125 48.734375 45.3125 54.390625 \r\nQ 45.3125 60.0625 41.71875 63.234375 \r\nQ 38.140625 66.40625 31.78125 66.40625 \r\nQ 25.390625 66.40625 21.84375 63.234375 \r\nQ 18.3125 60.0625 18.3125 54.390625 \r\nz\r\n\" id=\"DejaVuSans-56\"/>\r\n       </defs>\r\n       <use xlink:href=\"#DejaVuSans-56\"/>\r\n      </g>\r\n     </g>\r\n    </g>\r\n    <g id=\"xtick_6\">\r\n     <g id=\"line2d_6\">\r\n      <g>\r\n       <use style=\"stroke:#000000;stroke-width:0.8;\" x=\"232.370455\" xlink:href=\"#mbffc14464e\" y=\"224.64\"/>\r\n      </g>\r\n     </g>\r\n     <g id=\"text_6\">\r\n      <!-- 10 -->\r\n      <g transform=\"translate(226.007955 239.238437)scale(0.1 -0.1)\">\r\n       <defs>\r\n        <path d=\"M 12.40625 8.296875 \r\nL 28.515625 8.296875 \r\nL 28.515625 63.921875 \r\nL 10.984375 60.40625 \r\nL 10.984375 69.390625 \r\nL 28.421875 72.90625 \r\nL 38.28125 72.90625 \r\nL 38.28125 8.296875 \r\nL 54.390625 8.296875 \r\nL 54.390625 0 \r\nL 12.40625 0 \r\nz\r\n\" id=\"DejaVuSans-49\"/>\r\n       </defs>\r\n       <use xlink:href=\"#DejaVuSans-49\"/>\r\n       <use x=\"63.623047\" xlink:href=\"#DejaVuSans-48\"/>\r\n      </g>\r\n     </g>\r\n    </g>\r\n    <g id=\"xtick_7\">\r\n     <g id=\"line2d_7\">\r\n      <g>\r\n       <use style=\"stroke:#000000;stroke-width:0.8;\" x=\"270.415909\" xlink:href=\"#mbffc14464e\" y=\"224.64\"/>\r\n      </g>\r\n     </g>\r\n     <g id=\"text_7\">\r\n      <!-- 12 -->\r\n      <g transform=\"translate(264.053409 239.238437)scale(0.1 -0.1)\">\r\n       <use xlink:href=\"#DejaVuSans-49\"/>\r\n       <use x=\"63.623047\" xlink:href=\"#DejaVuSans-50\"/>\r\n      </g>\r\n     </g>\r\n    </g>\r\n    <g id=\"xtick_8\">\r\n     <g id=\"line2d_8\">\r\n      <g>\r\n       <use style=\"stroke:#000000;stroke-width:0.8;\" x=\"308.461364\" xlink:href=\"#mbffc14464e\" y=\"224.64\"/>\r\n      </g>\r\n     </g>\r\n     <g id=\"text_8\">\r\n      <!-- 14 -->\r\n      <g transform=\"translate(302.098864 239.238437)scale(0.1 -0.1)\">\r\n       <use xlink:href=\"#DejaVuSans-49\"/>\r\n       <use x=\"63.623047\" xlink:href=\"#DejaVuSans-52\"/>\r\n      </g>\r\n     </g>\r\n    </g>\r\n    <g id=\"xtick_9\">\r\n     <g id=\"line2d_9\">\r\n      <g>\r\n       <use style=\"stroke:#000000;stroke-width:0.8;\" x=\"346.506818\" xlink:href=\"#mbffc14464e\" y=\"224.64\"/>\r\n      </g>\r\n     </g>\r\n     <g id=\"text_9\">\r\n      <!-- 16 -->\r\n      <g transform=\"translate(340.144318 239.238437)scale(0.1 -0.1)\">\r\n       <use xlink:href=\"#DejaVuSans-49\"/>\r\n       <use x=\"63.623047\" xlink:href=\"#DejaVuSans-54\"/>\r\n      </g>\r\n     </g>\r\n    </g>\r\n   </g>\r\n   <g id=\"matplotlib.axis_2\">\r\n    <g id=\"ytick_1\">\r\n     <g id=\"line2d_10\">\r\n      <defs>\r\n       <path d=\"M 0 0 \r\nL -3.5 0 \r\n\" id=\"m8d6f252ce4\" style=\"stroke:#000000;stroke-width:0.8;\"/>\r\n      </defs>\r\n      <g>\r\n       <use style=\"stroke:#000000;stroke-width:0.8;\" x=\"26.925\" xlink:href=\"#m8d6f252ce4\" y=\"199.150622\"/>\r\n      </g>\r\n     </g>\r\n     <g id=\"text_10\">\r\n      <!-- 5 -->\r\n      <g transform=\"translate(13.5625 202.949841)scale(0.1 -0.1)\">\r\n       <defs>\r\n        <path d=\"M 10.796875 72.90625 \r\nL 49.515625 72.90625 \r\nL 49.515625 64.59375 \r\nL 19.828125 64.59375 \r\nL 19.828125 46.734375 \r\nQ 21.96875 47.46875 24.109375 47.828125 \r\nQ 26.265625 48.1875 28.421875 48.1875 \r\nQ 40.625 48.1875 47.75 41.5 \r\nQ 54.890625 34.8125 54.890625 23.390625 \r\nQ 54.890625 11.625 47.5625 5.09375 \r\nQ 40.234375 -1.421875 26.90625 -1.421875 \r\nQ 22.3125 -1.421875 17.546875 -0.640625 \r\nQ 12.796875 0.140625 7.71875 1.703125 \r\nL 7.71875 11.625 \r\nQ 12.109375 9.234375 16.796875 8.0625 \r\nQ 21.484375 6.890625 26.703125 6.890625 \r\nQ 35.15625 6.890625 40.078125 11.328125 \r\nQ 45.015625 15.765625 45.015625 23.390625 \r\nQ 45.015625 31 40.078125 35.4375 \r\nQ 35.15625 39.890625 26.703125 39.890625 \r\nQ 22.75 39.890625 18.8125 39.015625 \r\nQ 14.890625 38.140625 10.796875 36.28125 \r\nz\r\n\" id=\"DejaVuSans-53\"/>\r\n       </defs>\r\n       <use xlink:href=\"#DejaVuSans-53\"/>\r\n      </g>\r\n     </g>\r\n    </g>\r\n    <g id=\"ytick_2\">\r\n     <g id=\"line2d_11\">\r\n      <g>\r\n       <use style=\"stroke:#000000;stroke-width:0.8;\" x=\"26.925\" xlink:href=\"#m8d6f252ce4\" y=\"173.141053\"/>\r\n      </g>\r\n     </g>\r\n     <g id=\"text_11\">\r\n      <!-- 10 -->\r\n      <g transform=\"translate(7.2 176.940271)scale(0.1 -0.1)\">\r\n       <use xlink:href=\"#DejaVuSans-49\"/>\r\n       <use x=\"63.623047\" xlink:href=\"#DejaVuSans-48\"/>\r\n      </g>\r\n     </g>\r\n    </g>\r\n    <g id=\"ytick_3\">\r\n     <g id=\"line2d_12\">\r\n      <g>\r\n       <use style=\"stroke:#000000;stroke-width:0.8;\" x=\"26.925\" xlink:href=\"#m8d6f252ce4\" y=\"147.131483\"/>\r\n      </g>\r\n     </g>\r\n     <g id=\"text_12\">\r\n      <!-- 15 -->\r\n      <g transform=\"translate(7.2 150.930702)scale(0.1 -0.1)\">\r\n       <use xlink:href=\"#DejaVuSans-49\"/>\r\n       <use x=\"63.623047\" xlink:href=\"#DejaVuSans-53\"/>\r\n      </g>\r\n     </g>\r\n    </g>\r\n    <g id=\"ytick_4\">\r\n     <g id=\"line2d_13\">\r\n      <g>\r\n       <use style=\"stroke:#000000;stroke-width:0.8;\" x=\"26.925\" xlink:href=\"#m8d6f252ce4\" y=\"121.121914\"/>\r\n      </g>\r\n     </g>\r\n     <g id=\"text_13\">\r\n      <!-- 20 -->\r\n      <g transform=\"translate(7.2 124.921133)scale(0.1 -0.1)\">\r\n       <use xlink:href=\"#DejaVuSans-50\"/>\r\n       <use x=\"63.623047\" xlink:href=\"#DejaVuSans-48\"/>\r\n      </g>\r\n     </g>\r\n    </g>\r\n    <g id=\"ytick_5\">\r\n     <g id=\"line2d_14\">\r\n      <g>\r\n       <use style=\"stroke:#000000;stroke-width:0.8;\" x=\"26.925\" xlink:href=\"#m8d6f252ce4\" y=\"95.112344\"/>\r\n      </g>\r\n     </g>\r\n     <g id=\"text_14\">\r\n      <!-- 25 -->\r\n      <g transform=\"translate(7.2 98.911563)scale(0.1 -0.1)\">\r\n       <use xlink:href=\"#DejaVuSans-50\"/>\r\n       <use x=\"63.623047\" xlink:href=\"#DejaVuSans-53\"/>\r\n      </g>\r\n     </g>\r\n    </g>\r\n    <g id=\"ytick_6\">\r\n     <g id=\"line2d_15\">\r\n      <g>\r\n       <use style=\"stroke:#000000;stroke-width:0.8;\" x=\"26.925\" xlink:href=\"#m8d6f252ce4\" y=\"69.102775\"/>\r\n      </g>\r\n     </g>\r\n     <g id=\"text_15\">\r\n      <!-- 30 -->\r\n      <g transform=\"translate(7.2 72.901994)scale(0.1 -0.1)\">\r\n       <defs>\r\n        <path d=\"M 40.578125 39.3125 \r\nQ 47.65625 37.796875 51.625 33 \r\nQ 55.609375 28.21875 55.609375 21.1875 \r\nQ 55.609375 10.40625 48.1875 4.484375 \r\nQ 40.765625 -1.421875 27.09375 -1.421875 \r\nQ 22.515625 -1.421875 17.65625 -0.515625 \r\nQ 12.796875 0.390625 7.625 2.203125 \r\nL 7.625 11.71875 \r\nQ 11.71875 9.328125 16.59375 8.109375 \r\nQ 21.484375 6.890625 26.8125 6.890625 \r\nQ 36.078125 6.890625 40.9375 10.546875 \r\nQ 45.796875 14.203125 45.796875 21.1875 \r\nQ 45.796875 27.640625 41.28125 31.265625 \r\nQ 36.765625 34.90625 28.71875 34.90625 \r\nL 20.21875 34.90625 \r\nL 20.21875 43.015625 \r\nL 29.109375 43.015625 \r\nQ 36.375 43.015625 40.234375 45.921875 \r\nQ 44.09375 48.828125 44.09375 54.296875 \r\nQ 44.09375 59.90625 40.109375 62.90625 \r\nQ 36.140625 65.921875 28.71875 65.921875 \r\nQ 24.65625 65.921875 20.015625 65.03125 \r\nQ 15.375 64.15625 9.8125 62.3125 \r\nL 9.8125 71.09375 \r\nQ 15.4375 72.65625 20.34375 73.4375 \r\nQ 25.25 74.21875 29.59375 74.21875 \r\nQ 40.828125 74.21875 47.359375 69.109375 \r\nQ 53.90625 64.015625 53.90625 55.328125 \r\nQ 53.90625 49.265625 50.4375 45.09375 \r\nQ 46.96875 40.921875 40.578125 39.3125 \r\nz\r\n\" id=\"DejaVuSans-51\"/>\r\n       </defs>\r\n       <use xlink:href=\"#DejaVuSans-51\"/>\r\n       <use x=\"63.623047\" xlink:href=\"#DejaVuSans-48\"/>\r\n      </g>\r\n     </g>\r\n    </g>\r\n    <g id=\"ytick_7\">\r\n     <g id=\"line2d_16\">\r\n      <g>\r\n       <use style=\"stroke:#000000;stroke-width:0.8;\" x=\"26.925\" xlink:href=\"#m8d6f252ce4\" y=\"43.093206\"/>\r\n      </g>\r\n     </g>\r\n     <g id=\"text_16\">\r\n      <!-- 35 -->\r\n      <g transform=\"translate(7.2 46.892424)scale(0.1 -0.1)\">\r\n       <use xlink:href=\"#DejaVuSans-51\"/>\r\n       <use x=\"63.623047\" xlink:href=\"#DejaVuSans-53\"/>\r\n      </g>\r\n     </g>\r\n    </g>\r\n    <g id=\"ytick_8\">\r\n     <g id=\"line2d_17\">\r\n      <g>\r\n       <use style=\"stroke:#000000;stroke-width:0.8;\" x=\"26.925\" xlink:href=\"#m8d6f252ce4\" y=\"17.083636\"/>\r\n      </g>\r\n     </g>\r\n     <g id=\"text_17\">\r\n      <!-- 40 -->\r\n      <g transform=\"translate(7.2 20.882855)scale(0.1 -0.1)\">\r\n       <use xlink:href=\"#DejaVuSans-52\"/>\r\n       <use x=\"63.623047\" xlink:href=\"#DejaVuSans-48\"/>\r\n      </g>\r\n     </g>\r\n    </g>\r\n   </g>\r\n   <g id=\"line2d_18\">\r\n    <path clip-path=\"url(#p679c9cb870)\" d=\"M 42.143182 183.54488 \r\nL 61.165909 193.948708 \r\nL 80.188636 188.746794 \r\nL 99.211364 178.342967 \r\nL 118.234091 183.54488 \r\nL 137.256818 188.746794 \r\nL 156.279545 199.150622 \r\nL 175.302273 183.54488 \r\nL 194.325 183.54488 \r\nL 213.347727 193.948708 \r\nL 232.370455 188.746794 \r\nL 251.393182 188.746794 \r\nL 270.415909 199.150622 \r\nL 289.438636 193.948708 \r\nL 308.461364 193.948708 \r\nL 327.484091 188.746794 \r\nL 346.506818 188.746794 \r\n\" style=\"fill:none;stroke:#1f77b4;stroke-linecap:square;stroke-width:1.5;\"/>\r\n   </g>\r\n   <g id=\"line2d_19\">\r\n    <path clip-path=\"url(#p679c9cb870)\" d=\"M 42.143182 204.352536 \r\nL 61.165909 204.352536 \r\nL 80.188636 209.55445 \r\nL 99.211364 204.352536 \r\nL 118.234091 209.55445 \r\nL 137.256818 209.55445 \r\nL 156.279545 204.352536 \r\nL 175.302273 209.55445 \r\nL 194.325 209.55445 \r\nL 213.347727 209.55445 \r\nL 232.370455 209.55445 \r\nL 251.393182 204.352536 \r\nL 270.415909 209.55445 \r\nL 289.438636 209.55445 \r\nL 308.461364 214.756364 \r\nL 327.484091 199.150622 \r\nL 346.506818 199.150622 \r\n\" style=\"fill:none;stroke:#ff7f0e;stroke-linecap:square;stroke-width:1.5;\"/>\r\n   </g>\r\n   <g id=\"line2d_20\">\r\n    <path clip-path=\"url(#p679c9cb870)\" d=\"M 42.143182 173.141053 \r\nL 61.165909 167.939139 \r\nL 80.188636 110.718086 \r\nL 99.211364 178.342967 \r\nL 118.234091 95.112344 \r\nL 137.256818 17.083636 \r\nL 156.279545 105.516172 \r\nL 175.302273 178.342967 \r\nL 194.325 157.535311 \r\nL 213.347727 147.131483 \r\nL 232.370455 183.54488 \r\nL 251.393182 27.487464 \r\nL 270.415909 95.112344 \r\nL 289.438636 105.516172 \r\nL 308.461364 167.939139 \r\nL 327.484091 95.112344 \r\nL 346.506818 69.102775 \r\n\" style=\"fill:none;stroke:#2ca02c;stroke-linecap:square;stroke-width:1.5;\"/>\r\n   </g>\r\n   <g id=\"line2d_21\">\r\n    <path clip-path=\"url(#p679c9cb870)\" d=\"M 0 0 \r\n\" style=\"fill:none;stroke:#d62728;stroke-linecap:square;stroke-width:1.5;\"/>\r\n   </g>\r\n   <g id=\"line2d_22\">\r\n    <path clip-path=\"url(#p679c9cb870)\" d=\"M 0 0 \r\n\" style=\"fill:none;stroke:#9467bd;stroke-linecap:square;stroke-width:1.5;\"/>\r\n   </g>\r\n   <g id=\"line2d_23\">\r\n    <path clip-path=\"url(#p679c9cb870)\" d=\"M 0 0 \r\n\" style=\"fill:none;stroke:#8c564b;stroke-linecap:square;stroke-width:1.5;\"/>\r\n   </g>\r\n   <g id=\"patch_3\">\r\n    <path d=\"M 26.925 224.64 \r\nL 26.925 7.2 \r\n\" style=\"fill:none;stroke:#000000;stroke-linecap:square;stroke-linejoin:miter;stroke-width:0.8;\"/>\r\n   </g>\r\n   <g id=\"patch_4\">\r\n    <path d=\"M 361.725 224.64 \r\nL 361.725 7.2 \r\n\" style=\"fill:none;stroke:#000000;stroke-linecap:square;stroke-linejoin:miter;stroke-width:0.8;\"/>\r\n   </g>\r\n   <g id=\"patch_5\">\r\n    <path d=\"M 26.925 224.64 \r\nL 361.725 224.64 \r\n\" style=\"fill:none;stroke:#000000;stroke-linecap:square;stroke-linejoin:miter;stroke-width:0.8;\"/>\r\n   </g>\r\n   <g id=\"patch_6\">\r\n    <path d=\"M 26.925 7.2 \r\nL 361.725 7.2 \r\n\" style=\"fill:none;stroke:#000000;stroke-linecap:square;stroke-linejoin:miter;stroke-width:0.8;\"/>\r\n   </g>\r\n   <g id=\"legend_1\">\r\n    <g id=\"patch_7\">\r\n     <path d=\"M 33.925 103.26875 \r\nL 198.404688 103.26875 \r\nQ 200.404688 103.26875 200.404688 101.26875 \r\nL 200.404688 14.2 \r\nQ 200.404688 12.2 198.404688 12.2 \r\nL 33.925 12.2 \r\nQ 31.925 12.2 31.925 14.2 \r\nL 31.925 101.26875 \r\nQ 31.925 103.26875 33.925 103.26875 \r\nz\r\n\" style=\"fill:#ffffff;opacity:0.8;stroke:#cccccc;stroke-linejoin:miter;\"/>\r\n    </g>\r\n    <g id=\"line2d_24\">\r\n     <path d=\"M 35.925 20.298437 \r\nL 55.925 20.298437 \r\n\" style=\"fill:none;stroke:#1f77b4;stroke-linecap:square;stroke-width:1.5;\"/>\r\n    </g>\r\n    <g id=\"line2d_25\"/>\r\n    <g id=\"text_18\">\r\n     <!-- Feed back scores -->\r\n     <g transform=\"translate(63.925 23.798437)scale(0.1 -0.1)\">\r\n      <defs>\r\n       <path d=\"M 9.8125 72.90625 \r\nL 51.703125 72.90625 \r\nL 51.703125 64.59375 \r\nL 19.671875 64.59375 \r\nL 19.671875 43.109375 \r\nL 48.578125 43.109375 \r\nL 48.578125 34.8125 \r\nL 19.671875 34.8125 \r\nL 19.671875 0 \r\nL 9.8125 0 \r\nz\r\n\" id=\"DejaVuSans-70\"/>\r\n       <path d=\"M 56.203125 29.59375 \r\nL 56.203125 25.203125 \r\nL 14.890625 25.203125 \r\nQ 15.484375 15.921875 20.484375 11.0625 \r\nQ 25.484375 6.203125 34.421875 6.203125 \r\nQ 39.59375 6.203125 44.453125 7.46875 \r\nQ 49.3125 8.734375 54.109375 11.28125 \r\nL 54.109375 2.78125 \r\nQ 49.265625 0.734375 44.1875 -0.34375 \r\nQ 39.109375 -1.421875 33.890625 -1.421875 \r\nQ 20.796875 -1.421875 13.15625 6.1875 \r\nQ 5.515625 13.8125 5.515625 26.8125 \r\nQ 5.515625 40.234375 12.765625 48.109375 \r\nQ 20.015625 56 32.328125 56 \r\nQ 43.359375 56 49.78125 48.890625 \r\nQ 56.203125 41.796875 56.203125 29.59375 \r\nz\r\nM 47.21875 32.234375 \r\nQ 47.125 39.59375 43.09375 43.984375 \r\nQ 39.0625 48.390625 32.421875 48.390625 \r\nQ 24.90625 48.390625 20.390625 44.140625 \r\nQ 15.875 39.890625 15.1875 32.171875 \r\nz\r\n\" id=\"DejaVuSans-101\"/>\r\n       <path d=\"M 45.40625 46.390625 \r\nL 45.40625 75.984375 \r\nL 54.390625 75.984375 \r\nL 54.390625 0 \r\nL 45.40625 0 \r\nL 45.40625 8.203125 \r\nQ 42.578125 3.328125 38.25 0.953125 \r\nQ 33.9375 -1.421875 27.875 -1.421875 \r\nQ 17.96875 -1.421875 11.734375 6.484375 \r\nQ 5.515625 14.40625 5.515625 27.296875 \r\nQ 5.515625 40.1875 11.734375 48.09375 \r\nQ 17.96875 56 27.875 56 \r\nQ 33.9375 56 38.25 53.625 \r\nQ 42.578125 51.265625 45.40625 46.390625 \r\nz\r\nM 14.796875 27.296875 \r\nQ 14.796875 17.390625 18.875 11.75 \r\nQ 22.953125 6.109375 30.078125 6.109375 \r\nQ 37.203125 6.109375 41.296875 11.75 \r\nQ 45.40625 17.390625 45.40625 27.296875 \r\nQ 45.40625 37.203125 41.296875 42.84375 \r\nQ 37.203125 48.484375 30.078125 48.484375 \r\nQ 22.953125 48.484375 18.875 42.84375 \r\nQ 14.796875 37.203125 14.796875 27.296875 \r\nz\r\n\" id=\"DejaVuSans-100\"/>\r\n       <path id=\"DejaVuSans-32\"/>\r\n       <path d=\"M 48.6875 27.296875 \r\nQ 48.6875 37.203125 44.609375 42.84375 \r\nQ 40.53125 48.484375 33.40625 48.484375 \r\nQ 26.265625 48.484375 22.1875 42.84375 \r\nQ 18.109375 37.203125 18.109375 27.296875 \r\nQ 18.109375 17.390625 22.1875 11.75 \r\nQ 26.265625 6.109375 33.40625 6.109375 \r\nQ 40.53125 6.109375 44.609375 11.75 \r\nQ 48.6875 17.390625 48.6875 27.296875 \r\nz\r\nM 18.109375 46.390625 \r\nQ 20.953125 51.265625 25.265625 53.625 \r\nQ 29.59375 56 35.59375 56 \r\nQ 45.5625 56 51.78125 48.09375 \r\nQ 58.015625 40.1875 58.015625 27.296875 \r\nQ 58.015625 14.40625 51.78125 6.484375 \r\nQ 45.5625 -1.421875 35.59375 -1.421875 \r\nQ 29.59375 -1.421875 25.265625 0.953125 \r\nQ 20.953125 3.328125 18.109375 8.203125 \r\nL 18.109375 0 \r\nL 9.078125 0 \r\nL 9.078125 75.984375 \r\nL 18.109375 75.984375 \r\nz\r\n\" id=\"DejaVuSans-98\"/>\r\n       <path d=\"M 34.28125 27.484375 \r\nQ 23.390625 27.484375 19.1875 25 \r\nQ 14.984375 22.515625 14.984375 16.5 \r\nQ 14.984375 11.71875 18.140625 8.90625 \r\nQ 21.296875 6.109375 26.703125 6.109375 \r\nQ 34.1875 6.109375 38.703125 11.40625 \r\nQ 43.21875 16.703125 43.21875 25.484375 \r\nL 43.21875 27.484375 \r\nz\r\nM 52.203125 31.203125 \r\nL 52.203125 0 \r\nL 43.21875 0 \r\nL 43.21875 8.296875 \r\nQ 40.140625 3.328125 35.546875 0.953125 \r\nQ 30.953125 -1.421875 24.3125 -1.421875 \r\nQ 15.921875 -1.421875 10.953125 3.296875 \r\nQ 6 8.015625 6 15.921875 \r\nQ 6 25.140625 12.171875 29.828125 \r\nQ 18.359375 34.515625 30.609375 34.515625 \r\nL 43.21875 34.515625 \r\nL 43.21875 35.40625 \r\nQ 43.21875 41.609375 39.140625 45 \r\nQ 35.0625 48.390625 27.6875 48.390625 \r\nQ 23 48.390625 18.546875 47.265625 \r\nQ 14.109375 46.140625 10.015625 43.890625 \r\nL 10.015625 52.203125 \r\nQ 14.9375 54.109375 19.578125 55.046875 \r\nQ 24.21875 56 28.609375 56 \r\nQ 40.484375 56 46.34375 49.84375 \r\nQ 52.203125 43.703125 52.203125 31.203125 \r\nz\r\n\" id=\"DejaVuSans-97\"/>\r\n       <path d=\"M 48.78125 52.59375 \r\nL 48.78125 44.1875 \r\nQ 44.96875 46.296875 41.140625 47.34375 \r\nQ 37.3125 48.390625 33.40625 48.390625 \r\nQ 24.65625 48.390625 19.8125 42.84375 \r\nQ 14.984375 37.3125 14.984375 27.296875 \r\nQ 14.984375 17.28125 19.8125 11.734375 \r\nQ 24.65625 6.203125 33.40625 6.203125 \r\nQ 37.3125 6.203125 41.140625 7.25 \r\nQ 44.96875 8.296875 48.78125 10.40625 \r\nL 48.78125 2.09375 \r\nQ 45.015625 0.34375 40.984375 -0.53125 \r\nQ 36.96875 -1.421875 32.421875 -1.421875 \r\nQ 20.0625 -1.421875 12.78125 6.34375 \r\nQ 5.515625 14.109375 5.515625 27.296875 \r\nQ 5.515625 40.671875 12.859375 48.328125 \r\nQ 20.21875 56 33.015625 56 \r\nQ 37.15625 56 41.109375 55.140625 \r\nQ 45.0625 54.296875 48.78125 52.59375 \r\nz\r\n\" id=\"DejaVuSans-99\"/>\r\n       <path d=\"M 9.078125 75.984375 \r\nL 18.109375 75.984375 \r\nL 18.109375 31.109375 \r\nL 44.921875 54.6875 \r\nL 56.390625 54.6875 \r\nL 27.390625 29.109375 \r\nL 57.625 0 \r\nL 45.90625 0 \r\nL 18.109375 26.703125 \r\nL 18.109375 0 \r\nL 9.078125 0 \r\nz\r\n\" id=\"DejaVuSans-107\"/>\r\n       <path d=\"M 44.28125 53.078125 \r\nL 44.28125 44.578125 \r\nQ 40.484375 46.53125 36.375 47.5 \r\nQ 32.28125 48.484375 27.875 48.484375 \r\nQ 21.1875 48.484375 17.84375 46.4375 \r\nQ 14.5 44.390625 14.5 40.28125 \r\nQ 14.5 37.15625 16.890625 35.375 \r\nQ 19.28125 33.59375 26.515625 31.984375 \r\nL 29.59375 31.296875 \r\nQ 39.15625 29.25 43.1875 25.515625 \r\nQ 47.21875 21.78125 47.21875 15.09375 \r\nQ 47.21875 7.46875 41.1875 3.015625 \r\nQ 35.15625 -1.421875 24.609375 -1.421875 \r\nQ 20.21875 -1.421875 15.453125 -0.5625 \r\nQ 10.6875 0.296875 5.421875 2 \r\nL 5.421875 11.28125 \r\nQ 10.40625 8.6875 15.234375 7.390625 \r\nQ 20.0625 6.109375 24.8125 6.109375 \r\nQ 31.15625 6.109375 34.5625 8.28125 \r\nQ 37.984375 10.453125 37.984375 14.40625 \r\nQ 37.984375 18.0625 35.515625 20.015625 \r\nQ 33.0625 21.96875 24.703125 23.78125 \r\nL 21.578125 24.515625 \r\nQ 13.234375 26.265625 9.515625 29.90625 \r\nQ 5.8125 33.546875 5.8125 39.890625 \r\nQ 5.8125 47.609375 11.28125 51.796875 \r\nQ 16.75 56 26.8125 56 \r\nQ 31.78125 56 36.171875 55.265625 \r\nQ 40.578125 54.546875 44.28125 53.078125 \r\nz\r\n\" id=\"DejaVuSans-115\"/>\r\n       <path d=\"M 30.609375 48.390625 \r\nQ 23.390625 48.390625 19.1875 42.75 \r\nQ 14.984375 37.109375 14.984375 27.296875 \r\nQ 14.984375 17.484375 19.15625 11.84375 \r\nQ 23.34375 6.203125 30.609375 6.203125 \r\nQ 37.796875 6.203125 41.984375 11.859375 \r\nQ 46.1875 17.53125 46.1875 27.296875 \r\nQ 46.1875 37.015625 41.984375 42.703125 \r\nQ 37.796875 48.390625 30.609375 48.390625 \r\nz\r\nM 30.609375 56 \r\nQ 42.328125 56 49.015625 48.375 \r\nQ 55.71875 40.765625 55.71875 27.296875 \r\nQ 55.71875 13.875 49.015625 6.21875 \r\nQ 42.328125 -1.421875 30.609375 -1.421875 \r\nQ 18.84375 -1.421875 12.171875 6.21875 \r\nQ 5.515625 13.875 5.515625 27.296875 \r\nQ 5.515625 40.765625 12.171875 48.375 \r\nQ 18.84375 56 30.609375 56 \r\nz\r\n\" id=\"DejaVuSans-111\"/>\r\n       <path d=\"M 41.109375 46.296875 \r\nQ 39.59375 47.171875 37.8125 47.578125 \r\nQ 36.03125 48 33.890625 48 \r\nQ 26.265625 48 22.1875 43.046875 \r\nQ 18.109375 38.09375 18.109375 28.8125 \r\nL 18.109375 0 \r\nL 9.078125 0 \r\nL 9.078125 54.6875 \r\nL 18.109375 54.6875 \r\nL 18.109375 46.1875 \r\nQ 20.953125 51.171875 25.484375 53.578125 \r\nQ 30.03125 56 36.53125 56 \r\nQ 37.453125 56 38.578125 55.875 \r\nQ 39.703125 55.765625 41.0625 55.515625 \r\nz\r\n\" id=\"DejaVuSans-114\"/>\r\n      </defs>\r\n      <use xlink:href=\"#DejaVuSans-70\"/>\r\n      <use x=\"52.019531\" xlink:href=\"#DejaVuSans-101\"/>\r\n      <use x=\"113.542969\" xlink:href=\"#DejaVuSans-101\"/>\r\n      <use x=\"175.066406\" xlink:href=\"#DejaVuSans-100\"/>\r\n      <use x=\"238.542969\" xlink:href=\"#DejaVuSans-32\"/>\r\n      <use x=\"270.330078\" xlink:href=\"#DejaVuSans-98\"/>\r\n      <use x=\"333.806641\" xlink:href=\"#DejaVuSans-97\"/>\r\n      <use x=\"395.085938\" xlink:href=\"#DejaVuSans-99\"/>\r\n      <use x=\"450.066406\" xlink:href=\"#DejaVuSans-107\"/>\r\n      <use x=\"507.976562\" xlink:href=\"#DejaVuSans-32\"/>\r\n      <use x=\"539.763672\" xlink:href=\"#DejaVuSans-115\"/>\r\n      <use x=\"591.863281\" xlink:href=\"#DejaVuSans-99\"/>\r\n      <use x=\"646.84375\" xlink:href=\"#DejaVuSans-111\"/>\r\n      <use x=\"708.025391\" xlink:href=\"#DejaVuSans-114\"/>\r\n      <use x=\"746.888672\" xlink:href=\"#DejaVuSans-101\"/>\r\n      <use x=\"808.412109\" xlink:href=\"#DejaVuSans-115\"/>\r\n     </g>\r\n    </g>\r\n    <g id=\"line2d_26\">\r\n     <path d=\"M 35.925 34.976562 \r\nL 55.925 34.976562 \r\n\" style=\"fill:none;stroke:#ff7f0e;stroke-linecap:square;stroke-width:1.5;\"/>\r\n    </g>\r\n    <g id=\"line2d_27\"/>\r\n    <g id=\"text_19\">\r\n     <!-- Stars rating (highest first ) -->\r\n     <g transform=\"translate(63.925 38.476562)scale(0.1 -0.1)\">\r\n      <defs>\r\n       <path d=\"M 53.515625 70.515625 \r\nL 53.515625 60.890625 \r\nQ 47.90625 63.578125 42.921875 64.890625 \r\nQ 37.9375 66.21875 33.296875 66.21875 \r\nQ 25.25 66.21875 20.875 63.09375 \r\nQ 16.5 59.96875 16.5 54.203125 \r\nQ 16.5 49.359375 19.40625 46.890625 \r\nQ 22.3125 44.4375 30.421875 42.921875 \r\nL 36.375 41.703125 \r\nQ 47.40625 39.59375 52.65625 34.296875 \r\nQ 57.90625 29 57.90625 20.125 \r\nQ 57.90625 9.515625 50.796875 4.046875 \r\nQ 43.703125 -1.421875 29.984375 -1.421875 \r\nQ 24.8125 -1.421875 18.96875 -0.25 \r\nQ 13.140625 0.921875 6.890625 3.21875 \r\nL 6.890625 13.375 \r\nQ 12.890625 10.015625 18.65625 8.296875 \r\nQ 24.421875 6.59375 29.984375 6.59375 \r\nQ 38.421875 6.59375 43.015625 9.90625 \r\nQ 47.609375 13.234375 47.609375 19.390625 \r\nQ 47.609375 24.75 44.3125 27.78125 \r\nQ 41.015625 30.8125 33.5 32.328125 \r\nL 27.484375 33.5 \r\nQ 16.453125 35.6875 11.515625 40.375 \r\nQ 6.59375 45.0625 6.59375 53.421875 \r\nQ 6.59375 63.09375 13.40625 68.65625 \r\nQ 20.21875 74.21875 32.171875 74.21875 \r\nQ 37.3125 74.21875 42.625 73.28125 \r\nQ 47.953125 72.359375 53.515625 70.515625 \r\nz\r\n\" id=\"DejaVuSans-83\"/>\r\n       <path d=\"M 18.3125 70.21875 \r\nL 18.3125 54.6875 \r\nL 36.8125 54.6875 \r\nL 36.8125 47.703125 \r\nL 18.3125 47.703125 \r\nL 18.3125 18.015625 \r\nQ 18.3125 11.328125 20.140625 9.421875 \r\nQ 21.96875 7.515625 27.59375 7.515625 \r\nL 36.8125 7.515625 \r\nL 36.8125 0 \r\nL 27.59375 0 \r\nQ 17.1875 0 13.234375 3.875 \r\nQ 9.28125 7.765625 9.28125 18.015625 \r\nL 9.28125 47.703125 \r\nL 2.6875 47.703125 \r\nL 2.6875 54.6875 \r\nL 9.28125 54.6875 \r\nL 9.28125 70.21875 \r\nz\r\n\" id=\"DejaVuSans-116\"/>\r\n       <path d=\"M 9.421875 54.6875 \r\nL 18.40625 54.6875 \r\nL 18.40625 0 \r\nL 9.421875 0 \r\nz\r\nM 9.421875 75.984375 \r\nL 18.40625 75.984375 \r\nL 18.40625 64.59375 \r\nL 9.421875 64.59375 \r\nz\r\n\" id=\"DejaVuSans-105\"/>\r\n       <path d=\"M 54.890625 33.015625 \r\nL 54.890625 0 \r\nL 45.90625 0 \r\nL 45.90625 32.71875 \r\nQ 45.90625 40.484375 42.875 44.328125 \r\nQ 39.84375 48.1875 33.796875 48.1875 \r\nQ 26.515625 48.1875 22.3125 43.546875 \r\nQ 18.109375 38.921875 18.109375 30.90625 \r\nL 18.109375 0 \r\nL 9.078125 0 \r\nL 9.078125 54.6875 \r\nL 18.109375 54.6875 \r\nL 18.109375 46.1875 \r\nQ 21.34375 51.125 25.703125 53.5625 \r\nQ 30.078125 56 35.796875 56 \r\nQ 45.21875 56 50.046875 50.171875 \r\nQ 54.890625 44.34375 54.890625 33.015625 \r\nz\r\n\" id=\"DejaVuSans-110\"/>\r\n       <path d=\"M 45.40625 27.984375 \r\nQ 45.40625 37.75 41.375 43.109375 \r\nQ 37.359375 48.484375 30.078125 48.484375 \r\nQ 22.859375 48.484375 18.828125 43.109375 \r\nQ 14.796875 37.75 14.796875 27.984375 \r\nQ 14.796875 18.265625 18.828125 12.890625 \r\nQ 22.859375 7.515625 30.078125 7.515625 \r\nQ 37.359375 7.515625 41.375 12.890625 \r\nQ 45.40625 18.265625 45.40625 27.984375 \r\nz\r\nM 54.390625 6.78125 \r\nQ 54.390625 -7.171875 48.1875 -13.984375 \r\nQ 42 -20.796875 29.203125 -20.796875 \r\nQ 24.46875 -20.796875 20.265625 -20.09375 \r\nQ 16.0625 -19.390625 12.109375 -17.921875 \r\nL 12.109375 -9.1875 \r\nQ 16.0625 -11.328125 19.921875 -12.34375 \r\nQ 23.78125 -13.375 27.78125 -13.375 \r\nQ 36.625 -13.375 41.015625 -8.765625 \r\nQ 45.40625 -4.15625 45.40625 5.171875 \r\nL 45.40625 9.625 \r\nQ 42.625 4.78125 38.28125 2.390625 \r\nQ 33.9375 0 27.875 0 \r\nQ 17.828125 0 11.671875 7.65625 \r\nQ 5.515625 15.328125 5.515625 27.984375 \r\nQ 5.515625 40.671875 11.671875 48.328125 \r\nQ 17.828125 56 27.875 56 \r\nQ 33.9375 56 38.28125 53.609375 \r\nQ 42.625 51.21875 45.40625 46.390625 \r\nL 45.40625 54.6875 \r\nL 54.390625 54.6875 \r\nz\r\n\" id=\"DejaVuSans-103\"/>\r\n       <path d=\"M 31 75.875 \r\nQ 24.46875 64.65625 21.28125 53.65625 \r\nQ 18.109375 42.671875 18.109375 31.390625 \r\nQ 18.109375 20.125 21.3125 9.0625 \r\nQ 24.515625 -2 31 -13.1875 \r\nL 23.1875 -13.1875 \r\nQ 15.875 -1.703125 12.234375 9.375 \r\nQ 8.59375 20.453125 8.59375 31.390625 \r\nQ 8.59375 42.28125 12.203125 53.3125 \r\nQ 15.828125 64.359375 23.1875 75.875 \r\nz\r\n\" id=\"DejaVuSans-40\"/>\r\n       <path d=\"M 54.890625 33.015625 \r\nL 54.890625 0 \r\nL 45.90625 0 \r\nL 45.90625 32.71875 \r\nQ 45.90625 40.484375 42.875 44.328125 \r\nQ 39.84375 48.1875 33.796875 48.1875 \r\nQ 26.515625 48.1875 22.3125 43.546875 \r\nQ 18.109375 38.921875 18.109375 30.90625 \r\nL 18.109375 0 \r\nL 9.078125 0 \r\nL 9.078125 75.984375 \r\nL 18.109375 75.984375 \r\nL 18.109375 46.1875 \r\nQ 21.34375 51.125 25.703125 53.5625 \r\nQ 30.078125 56 35.796875 56 \r\nQ 45.21875 56 50.046875 50.171875 \r\nQ 54.890625 44.34375 54.890625 33.015625 \r\nz\r\n\" id=\"DejaVuSans-104\"/>\r\n       <path d=\"M 37.109375 75.984375 \r\nL 37.109375 68.5 \r\nL 28.515625 68.5 \r\nQ 23.6875 68.5 21.796875 66.546875 \r\nQ 19.921875 64.59375 19.921875 59.515625 \r\nL 19.921875 54.6875 \r\nL 34.71875 54.6875 \r\nL 34.71875 47.703125 \r\nL 19.921875 47.703125 \r\nL 19.921875 0 \r\nL 10.890625 0 \r\nL 10.890625 47.703125 \r\nL 2.296875 47.703125 \r\nL 2.296875 54.6875 \r\nL 10.890625 54.6875 \r\nL 10.890625 58.5 \r\nQ 10.890625 67.625 15.140625 71.796875 \r\nQ 19.390625 75.984375 28.609375 75.984375 \r\nz\r\n\" id=\"DejaVuSans-102\"/>\r\n       <path d=\"M 8.015625 75.875 \r\nL 15.828125 75.875 \r\nQ 23.140625 64.359375 26.78125 53.3125 \r\nQ 30.421875 42.28125 30.421875 31.390625 \r\nQ 30.421875 20.453125 26.78125 9.375 \r\nQ 23.140625 -1.703125 15.828125 -13.1875 \r\nL 8.015625 -13.1875 \r\nQ 14.5 -2 17.703125 9.0625 \r\nQ 20.90625 20.125 20.90625 31.390625 \r\nQ 20.90625 42.671875 17.703125 53.65625 \r\nQ 14.5 64.65625 8.015625 75.875 \r\nz\r\n\" id=\"DejaVuSans-41\"/>\r\n      </defs>\r\n      <use xlink:href=\"#DejaVuSans-83\"/>\r\n      <use x=\"63.476562\" xlink:href=\"#DejaVuSans-116\"/>\r\n      <use x=\"102.685547\" xlink:href=\"#DejaVuSans-97\"/>\r\n      <use x=\"163.964844\" xlink:href=\"#DejaVuSans-114\"/>\r\n      <use x=\"205.078125\" xlink:href=\"#DejaVuSans-115\"/>\r\n      <use x=\"257.177734\" xlink:href=\"#DejaVuSans-32\"/>\r\n      <use x=\"288.964844\" xlink:href=\"#DejaVuSans-114\"/>\r\n      <use x=\"330.078125\" xlink:href=\"#DejaVuSans-97\"/>\r\n      <use x=\"391.357422\" xlink:href=\"#DejaVuSans-116\"/>\r\n      <use x=\"430.566406\" xlink:href=\"#DejaVuSans-105\"/>\r\n      <use x=\"458.349609\" xlink:href=\"#DejaVuSans-110\"/>\r\n      <use x=\"521.728516\" xlink:href=\"#DejaVuSans-103\"/>\r\n      <use x=\"585.205078\" xlink:href=\"#DejaVuSans-32\"/>\r\n      <use x=\"616.992188\" xlink:href=\"#DejaVuSans-40\"/>\r\n      <use x=\"656.005859\" xlink:href=\"#DejaVuSans-104\"/>\r\n      <use x=\"719.384766\" xlink:href=\"#DejaVuSans-105\"/>\r\n      <use x=\"747.167969\" xlink:href=\"#DejaVuSans-103\"/>\r\n      <use x=\"810.644531\" xlink:href=\"#DejaVuSans-104\"/>\r\n      <use x=\"874.023438\" xlink:href=\"#DejaVuSans-101\"/>\r\n      <use x=\"935.546875\" xlink:href=\"#DejaVuSans-115\"/>\r\n      <use x=\"987.646484\" xlink:href=\"#DejaVuSans-116\"/>\r\n      <use x=\"1026.855469\" xlink:href=\"#DejaVuSans-32\"/>\r\n      <use x=\"1058.642578\" xlink:href=\"#DejaVuSans-102\"/>\r\n      <use x=\"1093.847656\" xlink:href=\"#DejaVuSans-105\"/>\r\n      <use x=\"1121.630859\" xlink:href=\"#DejaVuSans-114\"/>\r\n      <use x=\"1162.744141\" xlink:href=\"#DejaVuSans-115\"/>\r\n      <use x=\"1214.84375\" xlink:href=\"#DejaVuSans-116\"/>\r\n      <use x=\"1254.052734\" xlink:href=\"#DejaVuSans-32\"/>\r\n      <use x=\"1285.839844\" xlink:href=\"#DejaVuSans-41\"/>\r\n     </g>\r\n    </g>\r\n    <g id=\"line2d_28\">\r\n     <path d=\"M 35.925 49.654687 \r\nL 55.925 49.654687 \r\n\" style=\"fill:none;stroke:#2ca02c;stroke-linecap:square;stroke-width:1.5;\"/>\r\n    </g>\r\n    <g id=\"line2d_29\"/>\r\n    <g id=\"text_20\">\r\n     <!-- All-inclusive hotels -->\r\n     <g transform=\"translate(63.925 53.154687)scale(0.1 -0.1)\">\r\n      <defs>\r\n       <path d=\"M 34.1875 63.1875 \r\nL 20.796875 26.90625 \r\nL 47.609375 26.90625 \r\nz\r\nM 28.609375 72.90625 \r\nL 39.796875 72.90625 \r\nL 67.578125 0 \r\nL 57.328125 0 \r\nL 50.6875 18.703125 \r\nL 17.828125 18.703125 \r\nL 11.1875 0 \r\nL 0.78125 0 \r\nz\r\n\" id=\"DejaVuSans-65\"/>\r\n       <path d=\"M 9.421875 75.984375 \r\nL 18.40625 75.984375 \r\nL 18.40625 0 \r\nL 9.421875 0 \r\nz\r\n\" id=\"DejaVuSans-108\"/>\r\n       <path d=\"M 4.890625 31.390625 \r\nL 31.203125 31.390625 \r\nL 31.203125 23.390625 \r\nL 4.890625 23.390625 \r\nz\r\n\" id=\"DejaVuSans-45\"/>\r\n       <path d=\"M 8.5 21.578125 \r\nL 8.5 54.6875 \r\nL 17.484375 54.6875 \r\nL 17.484375 21.921875 \r\nQ 17.484375 14.15625 20.5 10.265625 \r\nQ 23.53125 6.390625 29.59375 6.390625 \r\nQ 36.859375 6.390625 41.078125 11.03125 \r\nQ 45.3125 15.671875 45.3125 23.6875 \r\nL 45.3125 54.6875 \r\nL 54.296875 54.6875 \r\nL 54.296875 0 \r\nL 45.3125 0 \r\nL 45.3125 8.40625 \r\nQ 42.046875 3.421875 37.71875 1 \r\nQ 33.40625 -1.421875 27.6875 -1.421875 \r\nQ 18.265625 -1.421875 13.375 4.4375 \r\nQ 8.5 10.296875 8.5 21.578125 \r\nz\r\nM 31.109375 56 \r\nz\r\n\" id=\"DejaVuSans-117\"/>\r\n       <path d=\"M 2.984375 54.6875 \r\nL 12.5 54.6875 \r\nL 29.59375 8.796875 \r\nL 46.6875 54.6875 \r\nL 56.203125 54.6875 \r\nL 35.6875 0 \r\nL 23.484375 0 \r\nz\r\n\" id=\"DejaVuSans-118\"/>\r\n      </defs>\r\n      <use xlink:href=\"#DejaVuSans-65\"/>\r\n      <use x=\"68.408203\" xlink:href=\"#DejaVuSans-108\"/>\r\n      <use x=\"96.191406\" xlink:href=\"#DejaVuSans-108\"/>\r\n      <use x=\"123.974609\" xlink:href=\"#DejaVuSans-45\"/>\r\n      <use x=\"160.058594\" xlink:href=\"#DejaVuSans-105\"/>\r\n      <use x=\"187.841797\" xlink:href=\"#DejaVuSans-110\"/>\r\n      <use x=\"251.220703\" xlink:href=\"#DejaVuSans-99\"/>\r\n      <use x=\"306.201172\" xlink:href=\"#DejaVuSans-108\"/>\r\n      <use x=\"333.984375\" xlink:href=\"#DejaVuSans-117\"/>\r\n      <use x=\"397.363281\" xlink:href=\"#DejaVuSans-115\"/>\r\n      <use x=\"449.462891\" xlink:href=\"#DejaVuSans-105\"/>\r\n      <use x=\"477.246094\" xlink:href=\"#DejaVuSans-118\"/>\r\n      <use x=\"536.425781\" xlink:href=\"#DejaVuSans-101\"/>\r\n      <use x=\"597.949219\" xlink:href=\"#DejaVuSans-32\"/>\r\n      <use x=\"629.736328\" xlink:href=\"#DejaVuSans-104\"/>\r\n      <use x=\"693.115234\" xlink:href=\"#DejaVuSans-111\"/>\r\n      <use x=\"754.296875\" xlink:href=\"#DejaVuSans-116\"/>\r\n      <use x=\"793.505859\" xlink:href=\"#DejaVuSans-101\"/>\r\n      <use x=\"855.029297\" xlink:href=\"#DejaVuSans-108\"/>\r\n      <use x=\"882.8125\" xlink:href=\"#DejaVuSans-115\"/>\r\n     </g>\r\n    </g>\r\n    <g id=\"line2d_30\">\r\n     <path d=\"M 35.925 64.332812 \r\nL 55.925 64.332812 \r\n\" style=\"fill:none;stroke:#d62728;stroke-linecap:square;stroke-width:1.5;\"/>\r\n    </g>\r\n    <g id=\"line2d_31\"/>\r\n    <g id=\"text_21\">\r\n     <!-- Unnamed: 6 -->\r\n     <g transform=\"translate(63.925 67.832812)scale(0.1 -0.1)\">\r\n      <defs>\r\n       <path d=\"M 8.6875 72.90625 \r\nL 18.609375 72.90625 \r\nL 18.609375 28.609375 \r\nQ 18.609375 16.890625 22.84375 11.734375 \r\nQ 27.09375 6.59375 36.625 6.59375 \r\nQ 46.09375 6.59375 50.34375 11.734375 \r\nQ 54.59375 16.890625 54.59375 28.609375 \r\nL 54.59375 72.90625 \r\nL 64.5 72.90625 \r\nL 64.5 27.390625 \r\nQ 64.5 13.140625 57.4375 5.859375 \r\nQ 50.390625 -1.421875 36.625 -1.421875 \r\nQ 22.796875 -1.421875 15.734375 5.859375 \r\nQ 8.6875 13.140625 8.6875 27.390625 \r\nz\r\n\" id=\"DejaVuSans-85\"/>\r\n       <path d=\"M 52 44.1875 \r\nQ 55.375 50.25 60.0625 53.125 \r\nQ 64.75 56 71.09375 56 \r\nQ 79.640625 56 84.28125 50.015625 \r\nQ 88.921875 44.046875 88.921875 33.015625 \r\nL 88.921875 0 \r\nL 79.890625 0 \r\nL 79.890625 32.71875 \r\nQ 79.890625 40.578125 77.09375 44.375 \r\nQ 74.3125 48.1875 68.609375 48.1875 \r\nQ 61.625 48.1875 57.5625 43.546875 \r\nQ 53.515625 38.921875 53.515625 30.90625 \r\nL 53.515625 0 \r\nL 44.484375 0 \r\nL 44.484375 32.71875 \r\nQ 44.484375 40.625 41.703125 44.40625 \r\nQ 38.921875 48.1875 33.109375 48.1875 \r\nQ 26.21875 48.1875 22.15625 43.53125 \r\nQ 18.109375 38.875 18.109375 30.90625 \r\nL 18.109375 0 \r\nL 9.078125 0 \r\nL 9.078125 54.6875 \r\nL 18.109375 54.6875 \r\nL 18.109375 46.1875 \r\nQ 21.1875 51.21875 25.484375 53.609375 \r\nQ 29.78125 56 35.6875 56 \r\nQ 41.65625 56 45.828125 52.96875 \r\nQ 50 49.953125 52 44.1875 \r\nz\r\n\" id=\"DejaVuSans-109\"/>\r\n       <path d=\"M 11.71875 12.40625 \r\nL 22.015625 12.40625 \r\nL 22.015625 0 \r\nL 11.71875 0 \r\nz\r\nM 11.71875 51.703125 \r\nL 22.015625 51.703125 \r\nL 22.015625 39.3125 \r\nL 11.71875 39.3125 \r\nz\r\n\" id=\"DejaVuSans-58\"/>\r\n      </defs>\r\n      <use xlink:href=\"#DejaVuSans-85\"/>\r\n      <use x=\"73.193359\" xlink:href=\"#DejaVuSans-110\"/>\r\n      <use x=\"136.572266\" xlink:href=\"#DejaVuSans-110\"/>\r\n      <use x=\"199.951172\" xlink:href=\"#DejaVuSans-97\"/>\r\n      <use x=\"261.230469\" xlink:href=\"#DejaVuSans-109\"/>\r\n      <use x=\"358.642578\" xlink:href=\"#DejaVuSans-101\"/>\r\n      <use x=\"420.166016\" xlink:href=\"#DejaVuSans-100\"/>\r\n      <use x=\"483.642578\" xlink:href=\"#DejaVuSans-58\"/>\r\n      <use x=\"517.333984\" xlink:href=\"#DejaVuSans-32\"/>\r\n      <use x=\"549.121094\" xlink:href=\"#DejaVuSans-54\"/>\r\n     </g>\r\n    </g>\r\n    <g id=\"line2d_32\">\r\n     <path d=\"M 35.925 79.010937 \r\nL 55.925 79.010937 \r\n\" style=\"fill:none;stroke:#9467bd;stroke-linecap:square;stroke-width:1.5;\"/>\r\n    </g>\r\n    <g id=\"line2d_33\"/>\r\n    <g id=\"text_22\">\r\n     <!-- Unnamed: 7 -->\r\n     <g transform=\"translate(63.925 82.510937)scale(0.1 -0.1)\">\r\n      <defs>\r\n       <path d=\"M 8.203125 72.90625 \r\nL 55.078125 72.90625 \r\nL 55.078125 68.703125 \r\nL 28.609375 0 \r\nL 18.3125 0 \r\nL 43.21875 64.59375 \r\nL 8.203125 64.59375 \r\nz\r\n\" id=\"DejaVuSans-55\"/>\r\n      </defs>\r\n      <use xlink:href=\"#DejaVuSans-85\"/>\r\n      <use x=\"73.193359\" xlink:href=\"#DejaVuSans-110\"/>\r\n      <use x=\"136.572266\" xlink:href=\"#DejaVuSans-110\"/>\r\n      <use x=\"199.951172\" xlink:href=\"#DejaVuSans-97\"/>\r\n      <use x=\"261.230469\" xlink:href=\"#DejaVuSans-109\"/>\r\n      <use x=\"358.642578\" xlink:href=\"#DejaVuSans-101\"/>\r\n      <use x=\"420.166016\" xlink:href=\"#DejaVuSans-100\"/>\r\n      <use x=\"483.642578\" xlink:href=\"#DejaVuSans-58\"/>\r\n      <use x=\"517.333984\" xlink:href=\"#DejaVuSans-32\"/>\r\n      <use x=\"549.121094\" xlink:href=\"#DejaVuSans-55\"/>\r\n     </g>\r\n    </g>\r\n    <g id=\"line2d_34\">\r\n     <path d=\"M 35.925 93.689062 \r\nL 55.925 93.689062 \r\n\" style=\"fill:none;stroke:#8c564b;stroke-linecap:square;stroke-width:1.5;\"/>\r\n    </g>\r\n    <g id=\"line2d_35\"/>\r\n    <g id=\"text_23\">\r\n     <!-- Unnamed: 8 -->\r\n     <g transform=\"translate(63.925 97.189062)scale(0.1 -0.1)\">\r\n      <use xlink:href=\"#DejaVuSans-85\"/>\r\n      <use x=\"73.193359\" xlink:href=\"#DejaVuSans-110\"/>\r\n      <use x=\"136.572266\" xlink:href=\"#DejaVuSans-110\"/>\r\n      <use x=\"199.951172\" xlink:href=\"#DejaVuSans-97\"/>\r\n      <use x=\"261.230469\" xlink:href=\"#DejaVuSans-109\"/>\r\n      <use x=\"358.642578\" xlink:href=\"#DejaVuSans-101\"/>\r\n      <use x=\"420.166016\" xlink:href=\"#DejaVuSans-100\"/>\r\n      <use x=\"483.642578\" xlink:href=\"#DejaVuSans-58\"/>\r\n      <use x=\"517.333984\" xlink:href=\"#DejaVuSans-32\"/>\r\n      <use x=\"549.121094\" xlink:href=\"#DejaVuSans-56\"/>\r\n     </g>\r\n    </g>\r\n   </g>\r\n  </g>\r\n </g>\r\n <defs>\r\n  <clipPath id=\"p679c9cb870\">\r\n   <rect height=\"217.44\" width=\"334.8\" x=\"26.925\" y=\"7.2\"/>\r\n  </clipPath>\r\n </defs>\r\n</svg>\r\n",
      "image/png": "[encoded data removed]"
     },
     "metadata": {
      "needs_background": "light"
     }
    }
   ],
   "source": [
    "destinations_df.plot()"
   ]
  },
  {
   "cell_type": "code",
   "execution_count": null,
   "metadata": {},
   "outputs": [],
   "source": []
  }
 ]
}