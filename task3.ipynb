{
 "metadata": {
  "language_info": {
   "codemirror_mode": {
    "name": "ipython",
    "version": 3
   },
   "file_extension": ".py",
   "mimetype": "text/x-python",
   "name": "python",
   "nbconvert_exporter": "python",
   "pygments_lexer": "ipython3",
   "version": "3.8.8"
  },
  "orig_nbformat": 2,
  "kernelspec": {
   "name": "python388jvsc74a57bd08a1d99096064578857631a90c3e9d1bbea52e61e8ecb2665d7d7fb9986e6f618",
   "display_name": "Python 3.8.8 64-bit ('base': conda)"
  }
 },
 "nbformat": 4,
 "nbformat_minor": 2,
 "cells": [
  {
   "cell_type": "code",
   "execution_count": 1,
   "metadata": {},
   "outputs": [],
   "source": [
    "filename = 'programming.txt'\n",
    "\n",
    "with open(filename, 'w') as file_object:\n",
    "    file_object.write(\" I love programming.\")"
   ]
  },
  {
   "cell_type": "code",
   "execution_count": 2,
   "metadata": {},
   "outputs": [],
   "source": [
    "filename = 'programming.txt'\n",
    "\n",
    "with open(filename, 'w') as file_object:\n",
    "    file_object.write(\" I love programming.\")\n",
    "    file_object.write(\"I love creating new games.\")"
   ]
  },
  {
   "cell_type": "code",
   "execution_count": 8,
   "metadata": {},
   "outputs": [],
   "source": [
    "filename = 'programming.txt'\n",
    "\n",
    "with open(filename, 'w') as file_object:\n",
    "     file_object.write(\"I love programming.\\n\")\n",
    "     file_object.write(\"I love creating new games.\\n\")"
   ]
  },
  {
   "cell_type": "code",
   "execution_count": 9,
   "metadata": {},
   "outputs": [],
   "source": [
    "filename = 'programming.txt'\n",
    "\n",
    "with open(filename, 'a') as file_object:\n",
    "     file_object.write(\"I also love finding meaning in large datasets.\\n\")\n",
    "     file_object.write(\"I love creating apps that can run in a browser.\\n\")"
   ]
  },
  {
   "cell_type": "code",
   "execution_count": 16,
   "metadata": {},
   "outputs": [],
   "source": [
    "filename = 'guest.txt'\n",
    "\n",
    "\n",
    "\n",
    "with open(filename, 'a') as file_object:\n",
    "    user = input(\" what is your name\")\n",
    "   \n",
    "\n",
    "\n",
    "\n",
    "\n",
    "\n"
   ]
  },
  {
   "cell_type": "code",
   "execution_count": 22,
   "metadata": {},
   "outputs": [],
   "source": [
    "# Write a program that allows you to enter 4 numbers and stores them in a file called “Numbers”\n",
    "# •3•45•83•21 Have a go at ‘w’ ‘r’  ‘a’\n",
    "\n",
    "# Create a file called  “Numbers”\n",
    "\n",
    "filename = 'Numbers.txt'\n",
    "\n",
    "with open(filename, 'w') as file_object:\n",
    "      file_object.write(\" 3, 45, 83, 21\")\n"
   ]
  },
  {
   "cell_type": "code",
   "execution_count": 29,
   "metadata": {},
   "outputs": [],
   "source": [
    "filename = 'Numbers.txt'\n",
    "\n",
    "with open(filename, 'w') as file_object:\n",
    "      file_object.write(\" 3\")\n",
    "      file_object.write(\"45\")\n",
    "      file_object.write(\"83\")\n",
    "      file_object.write(\"21\")\n",
    "      "
   ]
  },
  {
   "cell_type": "code",
   "execution_count": 24,
   "metadata": {},
   "outputs": [],
   "source": [
    "filename = 'Numbers.txt'\n",
    "\n",
    "with open(filename, 'w') as file_object:\n",
    "      file_object.write(\" 3 \\n\")\n",
    "      file_object.write(\"45 \\n\")\n",
    "      file_object.write(\"83 \\n\")\n",
    "      file_object.write(\"21 \\n\")"
   ]
  },
  {
   "cell_type": "code",
   "execution_count": 25,
   "metadata": {},
   "outputs": [],
   "source": [
    "filename = 'Numbers.txt'\n",
    "\n",
    "with open(filename, 'a') as file_object:\n",
    "      file_object.write(\" what is the magic number  \\n\")\n",
    "      "
   ]
  },
  {
   "cell_type": "code",
   "execution_count": 47,
   "metadata": {},
   "outputs": [
    {
     "output_type": "stream",
     "name": "stdout",
     "text": [
      "You got B\n",
      "You got B\n"
     ]
    },
    {
     "output_type": "error",
     "ename": "ValueError",
     "evalue": "could not convert string to float: ''",
     "traceback": [
      "\u001b[1;31m---------------------------------------------------------------------------\u001b[0m",
      "\u001b[1;31mValueError\u001b[0m                                Traceback (most recent call last)",
      "\u001b[1;32m<ipython-input-47-838a4f5cfc9f>\u001b[0m in \u001b[0;36m<module>\u001b[1;34m\u001b[0m\n\u001b[0;32m      1\u001b[0m \u001b[1;32mfor\u001b[0m \u001b[0mi\u001b[0m \u001b[1;32min\u001b[0m \u001b[0mrange\u001b[0m \u001b[1;33m(\u001b[0m\u001b[1;36m0\u001b[0m\u001b[1;33m,\u001b[0m \u001b[1;36m100\u001b[0m\u001b[1;33m)\u001b[0m\u001b[1;33m:\u001b[0m\u001b[1;33m\u001b[0m\u001b[1;33m\u001b[0m\u001b[0m\n\u001b[1;32m----> 2\u001b[1;33m     \u001b[0mgrade\u001b[0m \u001b[1;33m=\u001b[0m \u001b[0mfloat\u001b[0m\u001b[1;33m(\u001b[0m\u001b[0minput\u001b[0m\u001b[1;33m(\u001b[0m\u001b[1;34m\"what is your percentage mark:\"\u001b[0m\u001b[1;33m)\u001b[0m\u001b[1;33m)\u001b[0m\u001b[1;33m\u001b[0m\u001b[1;33m\u001b[0m\u001b[0m\n\u001b[0m\u001b[0;32m      3\u001b[0m     \u001b[1;32mif\u001b[0m \u001b[0mgrade\u001b[0m \u001b[1;33m>=\u001b[0m \u001b[1;36m90\u001b[0m\u001b[1;33m:\u001b[0m\u001b[1;33m\u001b[0m\u001b[1;33m\u001b[0m\u001b[0m\n\u001b[0;32m      4\u001b[0m         \u001b[0mprint\u001b[0m\u001b[1;33m(\u001b[0m\u001b[1;34m\"You got A+\"\u001b[0m\u001b[1;33m)\u001b[0m\u001b[1;33m\u001b[0m\u001b[1;33m\u001b[0m\u001b[0m\n\u001b[0;32m      5\u001b[0m     \u001b[1;32melif\u001b[0m \u001b[1;36m80\u001b[0m \u001b[1;33m<=\u001b[0m\u001b[0mgrade\u001b[0m\u001b[1;33m<\u001b[0m\u001b[1;36m90\u001b[0m\u001b[1;33m:\u001b[0m\u001b[1;33m\u001b[0m\u001b[1;33m\u001b[0m\u001b[0m\n",
      "\u001b[1;31mValueError\u001b[0m: could not convert string to float: ''"
     ]
    }
   ],
   "source": [
    "for i in range (0, 100):\n",
    "    grade = float(input(\"what is your percentage mark:\"))\n",
    "    if grade >= 90:\n",
    "        print(\"You got A+\")\n",
    "    elif 80 <=grade<90:\n",
    "        print(\"You got A\")\n",
    "    elif 60 <=grade<80:\n",
    "        print(\"You got B\")\n",
    "    else:\n",
    "        print(\"fail You need A+ to be part of this\")"
   ]
  },
  {
   "cell_type": "code",
   "execution_count": 50,
   "metadata": {},
   "outputs": [],
   "source": [
    "# The conversion will be done in a function called mark_grade\n",
    "\n",
    "# grade 4.0 or higher should return \"A\"\n",
    "# grade 3.0 or higher should return \"B\"\n",
    "# grade 2.0 or higher should return \"C\"\n",
    "# grade 1.0 or higher should return \"D\"\n",
    "# grade 0.0 or higher should return \"F\"\n",
    "\n",
    "def mark_grade(grade):\n",
    "  if grade>=4.0:\n",
    "    return \"A\"\n",
    "  elif grade>=3.0:\n",
    "    return \"B\"\n",
    "  elif grade>=2.0:\n",
    "    return \"C\"\n",
    "  elif grade>=1.0:\n",
    "    return \"D\"\n",
    "  else:\n",
    "    return \"F\""
   ]
  },
  {
   "cell_type": "code",
   "execution_count": null,
   "metadata": {},
   "outputs": [],
   "source": []
  }
 ]
}