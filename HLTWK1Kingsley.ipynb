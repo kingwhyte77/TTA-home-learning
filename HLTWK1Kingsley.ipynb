{
 "metadata": {
  "language_info": {
   "codemirror_mode": {
    "name": "ipython",
    "version": 3
   },
   "file_extension": ".py",
   "mimetype": "text/x-python",
   "name": "python",
   "nbconvert_exporter": "python",
   "pygments_lexer": "ipython3",
   "version": "3.6.1"
  },
  "orig_nbformat": 2,
  "kernelspec": {
   "name": "python361jvsc74a57bd094c6400962920bf9fe5eb14a7e20d43c03963dca33d3cfd9d8bd2376a42e15e0",
   "display_name": "Python 3.6.1 64-bit"
  },
  "metadata": {
   "interpreter": {
    "hash": "94c6400962920bf9fe5eb14a7e20d43c03963dca33d3cfd9d8bd2376a42e15e0"
   }
  }
 },
 "nbformat": 4,
 "nbformat_minor": 2,
 "cells": [
  {
   "cell_type": "code",
   "execution_count": 92,
   "metadata": {},
   "outputs": [
    {
     "output_type": "stream",
     "name": "stdout",
     "text": [
      "Well, Corey  I am thinking of a number between 1 and 10.\n",
      "Good job, Corey ! You guessed my number\n"
     ]
    }
   ],
   "source": [
    "# task 1\n",
    "\n",
    "import random\n",
    "\n",
    "myName = input(\"Hello! What is your name?\")\n",
    "number = random.randint(1, 10)\n",
    "print(\"Well, \" + myName + \" I am thinking of a number between 1 and 10.\")\n",
    "guess = int(input(\"8.\") )\n",
    "if guess == number:\n",
    "    print(\"Good job, \" + myName + \"! You guessed my number\")\n"
   ]
  },
  {
   "cell_type": "code",
   "execution_count": null,
   "metadata": {},
   "outputs": [],
   "source": []
  },
  {
   "cell_type": "code",
   "execution_count": 19,
   "metadata": {},
   "outputs": [
    {
     "output_type": "stream",
     "name": "stdout",
     "text": [
      "favourite number between 1 and 100\n",
      "I used to think I was indecisive. But now I’m not so sure\n",
      "favourite number between 1 and 100\n",
      "I used to think I was indecisive. But now I’m not so sure\n",
      "favourite number between 1 and 100\n",
      "Where there's a will theres a relative !!!\n",
      "favourite number between 1 and 100\n",
      "Where there's a will theres a relative !!!\n",
      "favourite number between 1 and 100\n",
      "Where there's a will theres a relative !!!\n",
      "favourite number between 1 and 100\n",
      "Where there's a will theres a relative !!!\n",
      "favourite number between 1 and 100\n",
      "Where there's a will theres a relative !!!\n",
      "favourite number between 1 and 100\n"
     ]
    },
    {
     "output_type": "error",
     "ename": "ValueError",
     "evalue": "invalid literal for int() with base 10: ''",
     "traceback": [
      "\u001b[1;31m---------------------------------------------------------------------------\u001b[0m",
      "\u001b[1;31mValueError\u001b[0m                                Traceback (most recent call last)",
      "\u001b[1;32m<ipython-input-19-b4194c76bdac>\u001b[0m in \u001b[0;36m<module>\u001b[1;34m\u001b[0m\n\u001b[0;32m     10\u001b[0m     \u001b[0mprint\u001b[0m\u001b[1;33m(\u001b[0m\u001b[1;34m'favourite number between 1 and 100'\u001b[0m\u001b[1;33m)\u001b[0m\u001b[1;33m\u001b[0m\u001b[0m\n\u001b[0;32m     11\u001b[0m     \u001b[0mguess\u001b[0m \u001b[1;33m=\u001b[0m \u001b[0minput\u001b[0m\u001b[1;33m(\u001b[0m\u001b[1;33m)\u001b[0m\u001b[1;33m\u001b[0m\u001b[0m\n\u001b[1;32m---> 12\u001b[1;33m     \u001b[0mi\u001b[0m \u001b[1;33m=\u001b[0m \u001b[0mint\u001b[0m\u001b[1;33m(\u001b[0m\u001b[0mguess\u001b[0m\u001b[1;33m)\u001b[0m\u001b[1;33m\u001b[0m\u001b[0m\n\u001b[0m\u001b[0;32m     13\u001b[0m     \u001b[1;32mif\u001b[0m \u001b[0mi\u001b[0m \u001b[1;33m==\u001b[0m \u001b[0mnumber\u001b[0m\u001b[1;33m:\u001b[0m\u001b[1;33m\u001b[0m\u001b[0m\n\u001b[0;32m     14\u001b[0m         \u001b[0mprint\u001b[0m\u001b[1;33m(\u001b[0m\u001b[1;34m\"Never trust atoms; they make up everything\"\u001b[0m\u001b[1;33m)\u001b[0m\u001b[1;33m\u001b[0m\u001b[0m\n",
      "\u001b[1;31mValueError\u001b[0m: invalid literal for int() with base 10: ''"
     ]
    }
   ],
   "source": [
    "# task 2\n",
    "\n",
    "# Write a program that asks a user for their favourite number between 1 and 100.\n",
    "# then tells them a joke based on the number. You should use a minimum of 3 jokes.\n",
    "\n",
    "import random\n",
    "\n",
    "number = random.randint(1, 100)\n",
    "attempts = 0\n",
    "while True:\n",
    "    print('favourite number between 1 and 100')\n",
    "    guess = input()\n",
    "    i = int(guess)\n",
    "    if i == number:\n",
    "        print(\"Never trust atoms; they make up everything\")\n",
    "        break\n",
    "    elif i < number:\n",
    "        print(\"Where there's a will theres a relative !!!\")\n",
    "    elif i > number:\n",
    "        print(\"I used to think I was indecisive. But now I’m not so sure\")\n",
    "\n"
   ]
  },
  {
   "cell_type": "code",
   "execution_count": 29,
   "metadata": {},
   "outputs": [
    {
     "output_type": "stream",
     "name": "stdout",
     "text": [
      "Your favourite meal is Bacon rings with a glass of Banana Split Martini.\n"
     ]
    }
   ],
   "source": [
    "# task 2\n",
    "\n",
    "# Write a program that allows user to enter their favourite starter, main course, dessert and drink.\n",
    "# Write a program that allows user to enter their favourite starter, main course, dessert and drink.\n",
    "# Concatenate these and output a message which says –“Your favourite meal is  .........with a glass of....\n",
    "\n",
    "favourite_starter = ['Bacon rings','Blooming onion','Prawn and ginger dumplings','Blini platter','Argentinian beef empanadas']\n",
    "main_course = ['Burgers','Goulash','Lasagna','Meatballs','Pizza,Pasta','Casseroles']\n",
    "dessert_with_drink = ['Banana Split Martini','Banana Cream Pie','Banana Split Martini','Chocolate Martini','Dark n Fluffy']\n",
    "message = f\"Your favourite meal is {favourite_starter[0]} with a glass of {dessert_with_drink[2]}.\"\n",
    "print(message)\n",
    "\n"
   ]
  },
  {
   "cell_type": "code",
   "execution_count": null,
   "metadata": {},
   "outputs": [],
   "source": []
  },
  {
   "cell_type": "code",
   "execution_count": 8,
   "metadata": {},
   "outputs": [
    {
     "output_type": "stream",
     "name": "stdout",
     "text": [
      "2000\nyear  cost of the motorbike is 1800.00 deprication at 10%\n1800.0\nyear  cost of the motorbike is 1620.00 deprication at 10%\n1620.0\nyear  cost of the motorbike is 1458.00 deprication at 10%\n1458.0\nyear  cost of the motorbike is 1312.20 deprication at 10%\n1312.2\nyear  cost of the motorbike is 1180.98 deprication at 10%\n1180.98\nyear  cost of the motorbike is 1062.88 deprication at 10%\n1062.882\nyear  cost of the motorbike is 956.59 deprication at 10%\n"
     ]
    }
   ],
   "source": [
    "# task 4\n",
    "\n",
    "# A motorbike costs £2000 and loses 10% of its value every year. \n",
    "# Using a loop, print the value of the bike every following year until it falls below £1000.\n",
    "\n",
    "\n",
    "motorbike_cost = 2000\n",
    "year = 2021\n",
    "\n",
    "while motorbike_cost> 1000:\n",
    "    print(motorbike_cost)\n",
    "    motorbike_cost = motorbike_cost * 0.9\n",
    "    year += 1\n",
    "    print(\"year\",\" cost of the motorbike is\",\"%.2f\" % motorbike_cost,\"deprication at 10%\")\n",
    "\n",
    "\n",
    "\n"
   ]
  },
  {
   "cell_type": "code",
   "execution_count": 17,
   "metadata": {},
   "outputs": [
    {
     "output_type": "stream",
     "name": "stdout",
     "text": [
      "enter the operator you want to perform\n"
     ]
    }
   ],
   "source": [
    "# task 5\n",
    "\n",
    "# Write a program which will ask for two numbers from a user. \n",
    "# Then offer a menu to the user giving them a choice of operator:e.g. –Enter “a” if you want to add “b”# if you want to subtract Include +, -, /, *, ** square (to the power of). \n",
    "# Once the user has selected which operator they wish to use, perform the calculation\n",
    "\n",
    "\n",
    "import math\n",
    "\n",
    "# We beginiing by getting input for the user.\n",
    "\n",
    "number1 = int(input(\"enter first number\"))\n",
    "number2 = int(input(\"enter second number\"))\n",
    "print(\"enter the operator you want to perform\")\n",
    "operator = input (\"enter any of thses specific operation +,-,*,/,:\")\n",
    "\n",
    "results = 0\n",
    "if operator  =='+':\n",
    "    result = number1 +number2\n",
    "elif operator == '-':\n",
    "    result = number1 - number2\n",
    "elif operator == '*':\n",
    "    result = number1 * number2\n",
    "elif operator == '/':\n",
    "    result = number1 / number2\n",
    "else:\n",
    "    print(\"This is active but you need to do better\")\n",
    "    print(number1,operator,number2,':',result)\n",
    "    \n",
    "\n",
    "    \n",
    "\n",
    "\n"
   ]
  },
  {
   "cell_type": "code",
   "execution_count": null,
   "metadata": {},
   "outputs": [],
   "source": []
  }
 ]
}